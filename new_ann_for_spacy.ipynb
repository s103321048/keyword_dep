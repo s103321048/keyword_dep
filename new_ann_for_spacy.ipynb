{
 "cells": [
  {
   "cell_type": "markdown",
   "metadata": {},
   "source": [
    "rewrite a ann_text which return dep_list I can direct put into graph"
   ]
  },
  {
   "cell_type": "code",
   "execution_count": 1,
   "metadata": {},
   "outputs": [],
   "source": [
    "import spacy\n",
    "import neuralcoref\n",
    "from spacy import displacy # https://spacy.io/usage/visualizers\n",
    "def show_depparse(text):\n",
    "    doc = nlp(text)\n",
    "    displacy.render(doc, style='dep',jupyter=True)\n",
    "\n",
    "nlp = spacy.load(\"en\")"
   ]
  },
  {
   "cell_type": "markdown",
   "metadata": {},
   "source": [
    "##### remove_pronoun"
   ]
  },
  {
   "cell_type": "code",
   "execution_count": 2,
   "metadata": {},
   "outputs": [
    {
     "data": {
      "text/plain": [
       "'Angela lives in Boston . Angela is quite happy in that city . Angela enjoy Angela life .'"
      ]
     },
     "execution_count": 2,
     "metadata": {},
     "output_type": "execute_result"
    }
   ],
   "source": [
    "def remove_pronoun(input_t): # replace pronoun with original noun\n",
    "    neuralcoref.add_to_pipe(nlp)\n",
    "    doc = nlp(input_t)\n",
    "    cvt_dict = dict()\n",
    "    for s in doc._.coref_clusters: # find pronouns save it as dict\n",
    "        cvt_dict[str(s.main)] = [str(i) for i in s.mentions if i != s.main]\n",
    "#    print(\"pronoun dict:\", cvt_dict)\n",
    "    nlp.remove_pipe(\"neuralcoref\")\n",
    "    \n",
    "    pn_list = [] # save list as (pronoun, origin noun)\n",
    "    for pn_main in cvt_dict:\n",
    "        for pn in cvt_dict[pn_main]:\n",
    "            pn_list.append( (pn, pn_main) )\n",
    "    rm_dup_pronouns(pn_list)\n",
    "#    print(\"pronoun list without dup:\", pn_list)\n",
    "    \n",
    "    no_pronoun_t = [] # replace pronoun with origin noun\n",
    "    for tok in doc:\n",
    "        if tok.lemma_ == \"-PRON-\":\n",
    "            replace_pronoun = False\n",
    "            for pn_idx, pn in enumerate(pn_list):\n",
    "                if tok.text == pn[0]:\n",
    "                    replace_pronoun = True\n",
    "                    no_pronoun_t.append(pn[1])\n",
    "                    del(pn_list[pn_idx])\n",
    "            if pn_list is None or replace_pronoun is False:\n",
    "                no_pronoun_t.append(tok.text)\n",
    "        else:\n",
    "            no_pronoun_t.append(tok.text)\n",
    "    new_t = \" \".join(no_pronoun_t)\n",
    "\n",
    "    return new_t\n",
    "\n",
    "def rm_dup_pronouns(pn_list):\n",
    "    rm_idx_list = []\n",
    "    for idx, i in enumerate(pn_list):\n",
    "        if i[0] == i[1]:\n",
    "            rm_idx_list.append(idx)\n",
    "    rm_idx_list.reverse()\n",
    "    for rm_idx in rm_idx_list:\n",
    "        del pn_list[rm_idx]\n",
    "    # # example\n",
    "    # pn_list = [('his', 'Lo Shang-hua (羅尚樺)'),(\"it\",\"it\"), (\"the\",\"the\"), ('he', 'Lo Shang-hua (羅尚樺)'), ('Lo', 'Lo Shang-hua (羅尚樺)'), ('his aircraft', 'his aircraft'), ('his', 'Pan’s'), ('He', 'Pan’s'), ('his', 'Pan’s'), ('it', 'The Taitung District Prosecutors’ Office'), ('its', 'The Taitung District Prosecutors’ Office')]\n",
    "    # rm_dup_pronouns(pn_list)\n",
    "    # pn_list\n",
    "    \n",
    "t = 'Angela lives in Boston. She is quite happy in that city. She enjoy her life.'\n",
    "#t = \"He is nice.\"\n",
    "remove_pronoun(t)"
   ]
  },
  {
   "cell_type": "markdown",
   "metadata": {},
   "source": [
    "##### dep_create"
   ]
  },
  {
   "cell_type": "markdown",
   "metadata": {
    "heading_collapsed": true
   },
   "source": [
    "###### dep relation format"
   ]
  },
  {
   "cell_type": "code",
   "execution_count": 123,
   "metadata": {
    "hidden": true,
    "scrolled": true
   },
   "outputs": [],
   "source": [
    "def ann_text(text):\n",
    "    no_pronoun_text = remove_pronoun(text)\n",
    "    doc = nlp(no_pronoun_text)\n",
    "    \n",
    "    dep_list = []\n",
    "    for sent_idx, sent in enumerate(doc.sents):\n",
    "        for tok_idx, tok in enumerate(sent):\n",
    "            dep = find_dep(tok)\n",
    "            if dep is not None:\n",
    "                dep_list.extend( dep )\n",
    "        print(\"===== next semt =====\")\n",
    "    return dep_list\n",
    "\n",
    "def dep_fwfw(tok, dp1, dp2, double_dir=False, reverse=False): # dep_forward_forward\n",
    "    # A->B->C  => C->A\n",
    "    #     ex: table for food\n",
    "    #         dep = (table-->for), (for-->food)\n",
    "    #             => table<--food\n",
    "    source = None\n",
    "    target = None\n",
    "    for child in tok.children:\n",
    "        if child.dep_ == dp1:\n",
    "            for cchild in child.children:\n",
    "                if cchild.dep_ == dp2:\n",
    "                    source = tok\n",
    "                    target = cchild\n",
    "    return creat_dep(source, target, double_dir, reverse)\n",
    "\n",
    "def dep_side(tok, dp1, dp2, double_dir=False, reverse=False):\n",
    "    # A<-B->C => C->A\n",
    "    #     ex: He is nice.   dep = (is->he), (is->nice) \n",
    "    #                           => nice->he\n",
    "    source = None\n",
    "    target = None\n",
    "    for child in tok.children:\n",
    "        if child.dep_ == dp1:\n",
    "            target = child\n",
    "        if child.dep_ == dp2:\n",
    "            source = child\n",
    "    return creat_dep(source, target, double_dir, reverse)\n",
    "\n",
    "# def dep_chg(tok, dp, double_dir=False, reverse=True): # dep_change\n",
    "#     # A->B => B->A\n",
    "#     #     ex: poor cat     dep = (cat->poor)\n",
    "#     #                          => poor->cat\n",
    "#     source = None\n",
    "#     target = None\n",
    "#     for child in tok.children:\n",
    "#         if child.dep_ == dp:\n",
    "#             source = child\n",
    "#             target = tok\n",
    "#     return creat_dep(source, target, double_dir, reverse)\n",
    "\n",
    "def dep_rem(tok, dp, double_dir=False, reverse=False): # dep_remain\n",
    "    # A->B => A->B\n",
    "    #     ex: find->it     dep = (find->it)\n",
    "    #                          => find->it\n",
    "    source = None\n",
    "    target = None\n",
    "    for child in tok.children:\n",
    "        if child.dep_ == dp:\n",
    "            source = tok\n",
    "            target = child\n",
    "    return creat_dep(source, target, double_dir, reverse)\n",
    "    \n",
    "    \n",
    "def creat_dep(source, target, double_dir=False, reverse=False):\n",
    "    if source is not None and target is not None:\n",
    "        if double_dir:\n",
    "            return [( tok2node(source), tok2node(target) ), \n",
    "                    ( tok2node(target), tok2node(source) )]\n",
    "        else:\n",
    "            if reverse: # source -> target\n",
    "                return (tok2node(target), tok2node(source) )\n",
    "            else:\n",
    "                return (tok2node(source), tok2node(target) )\n",
    "    else:\n",
    "        return None\n",
    "def tok2node(token): # token => str( lemma=pos )\n",
    "    tok_lemma = token.lemma_\n",
    "    if token.lemma_ == \"-PRON-\":\n",
    "        tok_lemma = token.text.lower()\n",
    "    if token.pos_ == \"PUNCT\":\n",
    "        return token.text\n",
    "    else:\n",
    "        return \"\".join([tok_lemma, '=', token.pos_])\n"
   ]
  },
  {
   "cell_type": "markdown",
   "metadata": {},
   "source": [
    "###### creat dep"
   ]
  },
  {
   "cell_type": "code",
   "execution_count": 226,
   "metadata": {},
   "outputs": [
    {
     "name": "stdout",
     "output_type": "stream",
     "text": [
      "===== next semt =====\n"
     ]
    },
    {
     "data": {
      "text/plain": [
       "[('make=VERB', 'public=ADJ')]"
      ]
     },
     "execution_count": 226,
     "metadata": {},
     "output_type": "execute_result"
    }
   ],
   "source": [
    "def find_dep(tok):\n",
    "    tmp_dep_list = []\n",
    "    tmp_dep_list.append( nsubj(tok) )\n",
    "    tmp_dep_list.append( nsubjp(tok))\n",
    "    tmp_dep_list.append( same(tok)  )\n",
    "    tmp_dep_list.append( ppobj(tok) )\n",
    "    tmp_dep_list.append( agpbj(tok) )\n",
    "    tmp_dep_list.append( dative(tok))\n",
    "    tmp_dep_list.append( ppcomp(tok))\n",
    "    tmp_dep_list.append( advcl(tok) )\n",
    "    tmp_dep_list.append(npadvmod(tok))\n",
    "    tmp_dep_list.append( amod(tok)  )\n",
    "    tmp_dep_list.append( advmod(tok))\n",
    "    tmp_dep_list.append( dobj(tok)  )\n",
    "    tmp_dep_list.append( nummod(tok))\n",
    "    tmp_dep_list.append( xcomp(tok) )\n",
    "    tmp_dep_list.append( ccomp(tok) )\n",
    "    tmp_dep_list.append( acl(tok)   )\n",
    "    tmp_dep_list.append( poss(tok)  )\n",
    "    tmp_dep_list.append( relcl(tok) )\n",
    "    tmp_dep_list.append( oprd(tok)  )\n",
    "    return flat_rmNone_list(tmp_dep_list)\n",
    "\n",
    "def flat_rmNone_list(tmp_dep_list):\n",
    "    dep_list = []\n",
    "    for dep in tmp_dep_list:\n",
    "        if dep is None:\n",
    "            continue\n",
    "        elif type(dep) is list:\n",
    "            dep_list.extend(dep)\n",
    "        else:\n",
    "            dep_list.append(dep)\n",
    "    return dep_list\n",
    "\n",
    "def nsubj(tok):\n",
    "    dep = dep_side(tok, 'nsubj', 'acomp') # \"I am nice\"\n",
    "    if dep is None:\n",
    "        dep = dep_side(tok, 'nsubj', 'attr', double_dir=True)  #\"Tom is man\"\n",
    "    if dep is None:\n",
    "        dep = dep_rem(tok, 'nsubj') # \"I ran home\"\n",
    "    return dep\n",
    "def nsubjp(tok):\n",
    "    return dep_rem(tok, 'nsubjpass') # \"dog was found\"\n",
    "def same(tok):\n",
    "    return dep_rem(tok, 'appos', double_dir=True) # \"Sam, the VIP\"\n",
    "def agpbj(tok): # agent+pobj\n",
    "    return dep_fwfw(tok, 'agent', 'pobj') # \"taken by us\"\n",
    "def ppobj(tok): # prep+pobj\n",
    "    if tok.pos_ in ['NOUN', 'PROPN']: \n",
    "        return dep_fwfw(tok, 'prep', 'pobj', reverse=True) # \"table of picnic\"\n",
    "    else:                             \n",
    "        return dep_fwfw(tok, 'prep', 'pobj') # \"some of toys\"\n",
    "def dative(tok):\n",
    "    return dep_rem(tok, 'dative') # \"gave me book\"\n",
    "def ppcomp(tok):\n",
    "    return dep_fwfw(tok, 'prep', 'pcomp') # \"play at flying\"\n",
    "def advcl(tok):\n",
    "    return dep_rem(tok, 'advcl') #\"cry when fail\"\n",
    "def npadvmod(tok):\n",
    "    return dep_rem(tok, 'npadvmod', reverse=False) # \"done this morning\"\n",
    "def amod(tok):\n",
    "    return dep_rem(tok, 'amod', reverse=True) # \"poor student\"\n",
    "def advmod(tok):\n",
    "    return dep_rem(tok, 'advmod', reverse=True) # \"less often\"\n",
    "def dobj(tok):\n",
    "    return dep_rem(tok, 'dobj') # \"find it\"\n",
    "def nummod(tok):\n",
    "    return dep_rem(tok, 'nummod', reverse=True) # \"ten books\"\n",
    "def xcomp(tok):\n",
    "    return dep_rem(tok, \"xcomp\") # \"easy to play\"\n",
    "def ccomp(tok):\n",
    "    return dep_rem(tok, \"ccomp\") # \"I conside him fool\"\n",
    "def poss(tok):\n",
    "    return dep_rem(tok, \"poss\", reverse=True) # \"his gun\"\n",
    "def relcl(tok):\n",
    "    return dep_rem(tok, \"relcl\", reverse=True) # \"girl who likes me\"\n",
    "def oprd(tok):\n",
    "    return dep_rem(tok, \"oprd\") # \"made public\"\n",
    "def acl(tok):\n",
    "    return dep_rem(tok, \"acl\", reverse=True) # \"fact that nobody care\"\n",
    "\n",
    "ann_text(t)"
   ]
  },
  {
   "cell_type": "code",
   "execution_count": 40,
   "metadata": {},
   "outputs": [],
   "source": [
    "t = \"“Since many of the things found on the body belonged to Pan Ying-chun, it is probably him,” Pan’s brother told reporters at the morgue yesterday. Finding the body was enough, he said, adding that he just wants to give his brother a proper funeral and send him off.\""
   ]
  },
  {
   "cell_type": "code",
   "execution_count": 72,
   "metadata": {},
   "outputs": [
    {
     "name": "stdout",
     "output_type": "stream",
     "text": [
      "he=PRON\n",
      "be=VERB\n",
      "nice=ADJ\n",
      ".\n"
     ]
    }
   ],
   "source": [
    "def tok2node(token): # token => str( lemma=pos )\n",
    "    tok_lemma = token.lemma_\n",
    "    if token.lemma_ == \"-PRON-\":\n",
    "        tok_lemma = token.text.lower()\n",
    "    if token.pos_ == \"PUNCT\":\n",
    "        return token.text\n",
    "    else:\n",
    "        return \"\".join([tok_lemma, '=', token.pos_])\n",
    "\n",
    "#text = 'Angela lives in Boston Big Set (BBS), she is quite happy in that city. She enjoy her life.'\n",
    "text = \"He is nice.\"\n",
    "\n",
    "no_pronoun_text = remove_pronoun(text)\n",
    "doc = nlp(no_pronoun_text)\n",
    "for sent_idx, sent in enumerate(doc.sents):\n",
    "    for tok in sent:\n",
    "        print(tok2node(tok))"
   ]
  },
  {
   "cell_type": "code",
   "execution_count": 204,
   "metadata": {},
   "outputs": [
    {
     "data": {
      "text/html": [
       "<svg xmlns=\"http://www.w3.org/2000/svg\" xmlns:xlink=\"http://www.w3.org/1999/xlink\" xml:lang=\"en\" id=\"6b17ac40a9534b0eadb9489b9280836a-0\" class=\"displacy\" width=\"575\" height=\"224.5\" direction=\"ltr\" style=\"max-width: none; height: 224.5px; color: #000000; background: #ffffff; font-family: Arial; direction: ltr\">\n",
       "<text class=\"displacy-token\" fill=\"currentColor\" text-anchor=\"middle\" y=\"134.5\">\n",
       "    <tspan class=\"displacy-word\" fill=\"currentColor\" x=\"50\">Chin</tspan>\n",
       "    <tspan class=\"displacy-tag\" dy=\"2em\" fill=\"currentColor\" x=\"50\">PROPN</tspan>\n",
       "</text>\n",
       "\n",
       "<text class=\"displacy-token\" fill=\"currentColor\" text-anchor=\"middle\" y=\"134.5\">\n",
       "    <tspan class=\"displacy-word\" fill=\"currentColor\" x=\"225\">Ting,</tspan>\n",
       "    <tspan class=\"displacy-tag\" dy=\"2em\" fill=\"currentColor\" x=\"225\">PROPN</tspan>\n",
       "</text>\n",
       "\n",
       "<text class=\"displacy-token\" fill=\"currentColor\" text-anchor=\"middle\" y=\"134.5\">\n",
       "    <tspan class=\"displacy-word\" fill=\"currentColor\" x=\"400\">Kuo</tspan>\n",
       "    <tspan class=\"displacy-tag\" dy=\"2em\" fill=\"currentColor\" x=\"400\">PROPN</tspan>\n",
       "</text>\n",
       "\n",
       "<g class=\"displacy-arrow\">\n",
       "    <path class=\"displacy-arc\" id=\"arrow-6b17ac40a9534b0eadb9489b9280836a-0-0\" stroke-width=\"2px\" d=\"M70,89.5 C70,2.0 225.0,2.0 225.0,89.5\" fill=\"none\" stroke=\"currentColor\"/>\n",
       "    <text dy=\"1.25em\" style=\"font-size: 0.8em; letter-spacing: 1px\">\n",
       "        <textPath xlink:href=\"#arrow-6b17ac40a9534b0eadb9489b9280836a-0-0\" class=\"displacy-label\" startOffset=\"50%\" side=\"left\" fill=\"currentColor\" text-anchor=\"middle\">compound</textPath>\n",
       "    </text>\n",
       "    <path class=\"displacy-arrowhead\" d=\"M70,91.5 L62,79.5 78,79.5\" fill=\"currentColor\"/>\n",
       "</g>\n",
       "\n",
       "<g class=\"displacy-arrow\">\n",
       "    <path class=\"displacy-arc\" id=\"arrow-6b17ac40a9534b0eadb9489b9280836a-0-1\" stroke-width=\"2px\" d=\"M245,89.5 C245,2.0 400.0,2.0 400.0,89.5\" fill=\"none\" stroke=\"currentColor\"/>\n",
       "    <text dy=\"1.25em\" style=\"font-size: 0.8em; letter-spacing: 1px\">\n",
       "        <textPath xlink:href=\"#arrow-6b17ac40a9534b0eadb9489b9280836a-0-1\" class=\"displacy-label\" startOffset=\"50%\" side=\"left\" fill=\"currentColor\" text-anchor=\"middle\">appos</textPath>\n",
       "    </text>\n",
       "    <path class=\"displacy-arrowhead\" d=\"M400.0,91.5 L408.0,79.5 392.0,79.5\" fill=\"currentColor\"/>\n",
       "</g>\n",
       "</svg>"
      ],
      "text/plain": [
       "<IPython.core.display.HTML object>"
      ]
     },
     "metadata": {},
     "output_type": "display_data"
    }
   ],
   "source": [
    "t = \"Chin Ting, Kuo\"\n",
    "show_depparse(t)"
   ]
  },
  {
   "cell_type": "code",
   "execution_count": null,
   "metadata": {},
   "outputs": [],
   "source": []
  }
 ],
 "metadata": {
  "kernelspec": {
   "display_name": "Python 3",
   "language": "python",
   "name": "python3"
  },
  "language_info": {
   "codemirror_mode": {
    "name": "ipython",
    "version": 3
   },
   "file_extension": ".py",
   "mimetype": "text/x-python",
   "name": "python",
   "nbconvert_exporter": "python",
   "pygments_lexer": "ipython3",
   "version": "3.7.4"
  },
  "toc": {
   "base_numbering": 1,
   "nav_menu": {},
   "number_sections": true,
   "sideBar": true,
   "skip_h1_title": false,
   "title_cell": "Table of Contents",
   "title_sidebar": "Contents",
   "toc_cell": false,
   "toc_position": {},
   "toc_section_display": true,
   "toc_window_display": false
  }
 },
 "nbformat": 4,
 "nbformat_minor": 2
}
