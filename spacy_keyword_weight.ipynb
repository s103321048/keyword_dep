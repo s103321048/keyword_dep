{
 "cells": [
  {
   "cell_type": "code",
   "execution_count": 1,
   "metadata": {},
   "outputs": [],
   "source": [
    "s = \"ten of the toys\"\n",
    "s = \"There is a ghost in the room \"\n",
    "s = \"Dole was defeated by Clinton\"\n",
    "#s = \"the Chair's office\"\n",
    "show_depparse(s)"
   ]
  },
  {
   "cell_type": "code",
   "execution_count": null,
   "metadata": {},
   "outputs": [],
   "source": [
    "s = \"he ran to school.\"\n",
    "show_depparse(s)"
   ]
  },
  {
   "cell_type": "markdown",
   "metadata": {},
   "source": [
    "###### Pre-settings"
   ]
  },
  {
   "cell_type": "code",
   "execution_count": 2,
   "metadata": {},
   "outputs": [],
   "source": [
    "import spacy\n",
    "import neuralcoref\n",
    "nlp = spacy.load(\"en\")\n",
    "# spacy POS list: https://github.com/explosion/spaCy/blob/master/spacy/glossary.py"
   ]
  },
  {
   "cell_type": "code",
   "execution_count": 3,
   "metadata": {},
   "outputs": [
    {
     "data": {
      "text/html": [
       "<svg xmlns=\"http://www.w3.org/2000/svg\" xmlns:xlink=\"http://www.w3.org/1999/xlink\" xml:lang=\"en\" id=\"7b05f270c7894d2d839c76a1ea4bf2a2-0\" class=\"displacy\" width=\"1100\" height=\"312.0\" direction=\"ltr\" style=\"max-width: none; height: 312.0px; color: #000000; background: #ffffff; font-family: Arial; direction: ltr\">\n",
       "<text class=\"displacy-token\" fill=\"currentColor\" text-anchor=\"middle\" y=\"222.0\">\n",
       "    <tspan class=\"displacy-word\" fill=\"currentColor\" x=\"50\">He</tspan>\n",
       "    <tspan class=\"displacy-tag\" dy=\"2em\" fill=\"currentColor\" x=\"50\">PRON</tspan>\n",
       "</text>\n",
       "\n",
       "<text class=\"displacy-token\" fill=\"currentColor\" text-anchor=\"middle\" y=\"222.0\">\n",
       "    <tspan class=\"displacy-word\" fill=\"currentColor\" x=\"225\">is</tspan>\n",
       "    <tspan class=\"displacy-tag\" dy=\"2em\" fill=\"currentColor\" x=\"225\">VERB</tspan>\n",
       "</text>\n",
       "\n",
       "<text class=\"displacy-token\" fill=\"currentColor\" text-anchor=\"middle\" y=\"222.0\">\n",
       "    <tspan class=\"displacy-word\" fill=\"currentColor\" x=\"400\">nice,</tspan>\n",
       "    <tspan class=\"displacy-tag\" dy=\"2em\" fill=\"currentColor\" x=\"400\">ADJ</tspan>\n",
       "</text>\n",
       "\n",
       "<text class=\"displacy-token\" fill=\"currentColor\" text-anchor=\"middle\" y=\"222.0\">\n",
       "    <tspan class=\"displacy-word\" fill=\"currentColor\" x=\"575\">tall</tspan>\n",
       "    <tspan class=\"displacy-tag\" dy=\"2em\" fill=\"currentColor\" x=\"575\">ADJ</tspan>\n",
       "</text>\n",
       "\n",
       "<text class=\"displacy-token\" fill=\"currentColor\" text-anchor=\"middle\" y=\"222.0\">\n",
       "    <tspan class=\"displacy-word\" fill=\"currentColor\" x=\"750\">and</tspan>\n",
       "    <tspan class=\"displacy-tag\" dy=\"2em\" fill=\"currentColor\" x=\"750\">CCONJ</tspan>\n",
       "</text>\n",
       "\n",
       "<text class=\"displacy-token\" fill=\"currentColor\" text-anchor=\"middle\" y=\"222.0\">\n",
       "    <tspan class=\"displacy-word\" fill=\"currentColor\" x=\"925\">cool.</tspan>\n",
       "    <tspan class=\"displacy-tag\" dy=\"2em\" fill=\"currentColor\" x=\"925\">ADJ</tspan>\n",
       "</text>\n",
       "\n",
       "<g class=\"displacy-arrow\">\n",
       "    <path class=\"displacy-arc\" id=\"arrow-7b05f270c7894d2d839c76a1ea4bf2a2-0-0\" stroke-width=\"2px\" d=\"M70,177.0 C70,89.5 220.0,89.5 220.0,177.0\" fill=\"none\" stroke=\"currentColor\"/>\n",
       "    <text dy=\"1.25em\" style=\"font-size: 0.8em; letter-spacing: 1px\">\n",
       "        <textPath xlink:href=\"#arrow-7b05f270c7894d2d839c76a1ea4bf2a2-0-0\" class=\"displacy-label\" startOffset=\"50%\" side=\"left\" fill=\"currentColor\" text-anchor=\"middle\">nsubj</textPath>\n",
       "    </text>\n",
       "    <path class=\"displacy-arrowhead\" d=\"M70,179.0 L62,167.0 78,167.0\" fill=\"currentColor\"/>\n",
       "</g>\n",
       "\n",
       "<g class=\"displacy-arrow\">\n",
       "    <path class=\"displacy-arc\" id=\"arrow-7b05f270c7894d2d839c76a1ea4bf2a2-0-1\" stroke-width=\"2px\" d=\"M245,177.0 C245,89.5 395.0,89.5 395.0,177.0\" fill=\"none\" stroke=\"currentColor\"/>\n",
       "    <text dy=\"1.25em\" style=\"font-size: 0.8em; letter-spacing: 1px\">\n",
       "        <textPath xlink:href=\"#arrow-7b05f270c7894d2d839c76a1ea4bf2a2-0-1\" class=\"displacy-label\" startOffset=\"50%\" side=\"left\" fill=\"currentColor\" text-anchor=\"middle\">acomp</textPath>\n",
       "    </text>\n",
       "    <path class=\"displacy-arrowhead\" d=\"M395.0,179.0 L403.0,167.0 387.0,167.0\" fill=\"currentColor\"/>\n",
       "</g>\n",
       "\n",
       "<g class=\"displacy-arrow\">\n",
       "    <path class=\"displacy-arc\" id=\"arrow-7b05f270c7894d2d839c76a1ea4bf2a2-0-2\" stroke-width=\"2px\" d=\"M420,177.0 C420,89.5 570.0,89.5 570.0,177.0\" fill=\"none\" stroke=\"currentColor\"/>\n",
       "    <text dy=\"1.25em\" style=\"font-size: 0.8em; letter-spacing: 1px\">\n",
       "        <textPath xlink:href=\"#arrow-7b05f270c7894d2d839c76a1ea4bf2a2-0-2\" class=\"displacy-label\" startOffset=\"50%\" side=\"left\" fill=\"currentColor\" text-anchor=\"middle\">conj</textPath>\n",
       "    </text>\n",
       "    <path class=\"displacy-arrowhead\" d=\"M570.0,179.0 L578.0,167.0 562.0,167.0\" fill=\"currentColor\"/>\n",
       "</g>\n",
       "\n",
       "<g class=\"displacy-arrow\">\n",
       "    <path class=\"displacy-arc\" id=\"arrow-7b05f270c7894d2d839c76a1ea4bf2a2-0-3\" stroke-width=\"2px\" d=\"M595,177.0 C595,89.5 745.0,89.5 745.0,177.0\" fill=\"none\" stroke=\"currentColor\"/>\n",
       "    <text dy=\"1.25em\" style=\"font-size: 0.8em; letter-spacing: 1px\">\n",
       "        <textPath xlink:href=\"#arrow-7b05f270c7894d2d839c76a1ea4bf2a2-0-3\" class=\"displacy-label\" startOffset=\"50%\" side=\"left\" fill=\"currentColor\" text-anchor=\"middle\">cc</textPath>\n",
       "    </text>\n",
       "    <path class=\"displacy-arrowhead\" d=\"M745.0,179.0 L753.0,167.0 737.0,167.0\" fill=\"currentColor\"/>\n",
       "</g>\n",
       "\n",
       "<g class=\"displacy-arrow\">\n",
       "    <path class=\"displacy-arc\" id=\"arrow-7b05f270c7894d2d839c76a1ea4bf2a2-0-4\" stroke-width=\"2px\" d=\"M595,177.0 C595,2.0 925.0,2.0 925.0,177.0\" fill=\"none\" stroke=\"currentColor\"/>\n",
       "    <text dy=\"1.25em\" style=\"font-size: 0.8em; letter-spacing: 1px\">\n",
       "        <textPath xlink:href=\"#arrow-7b05f270c7894d2d839c76a1ea4bf2a2-0-4\" class=\"displacy-label\" startOffset=\"50%\" side=\"left\" fill=\"currentColor\" text-anchor=\"middle\">conj</textPath>\n",
       "    </text>\n",
       "    <path class=\"displacy-arrowhead\" d=\"M925.0,179.0 L933.0,167.0 917.0,167.0\" fill=\"currentColor\"/>\n",
       "</g>\n",
       "</svg>"
      ],
      "text/plain": [
       "<IPython.core.display.HTML object>"
      ]
     },
     "metadata": {},
     "output_type": "display_data"
    }
   ],
   "source": [
    "from spacy import displacy # https://spacy.io/usage/visualizers\n",
    "def show_depparse(text):\n",
    "    doc = nlp(text)\n",
    "    displacy.render(doc, style='dep',jupyter=True)\n",
    "# example\n",
    "#t = \"Robin Kuo is walking away from the house. The house is very scary.\"\n",
    "#t = \"Jon Sena gave up finding his make up in the World Wild University.\"\n",
    "t = \"He is nice, tall and cool.\"\n",
    "show_depparse(t)"
   ]
  },
  {
   "cell_type": "code",
   "execution_count": 4,
   "metadata": {},
   "outputs": [],
   "source": [
    "### spacy examples\n",
    "# doc = nlp(t)\n",
    "# for token in doc:\n",
    "#     print(token.text,\"\\t\", token.dep_,\"\\t\", token.head.text, token.head.pos_, token.lemma_,\n",
    "#            [child for child in token.children])\n",
    "#     print(token.text, token.head.text, token.dep_)\n",
    "\n",
    "# for sent_idx, sent in enumerate(doc.sents):\n",
    "#     print(sent, sent_idx)\n",
    "#     for token in sent:\n",
    "#         print(token.lemma_, token.head.lemma_, token.dep_)\n",
    "#     print(\"=====\")\n",
    "#     ### NER\n",
    "#     for ent in sent.ents:\n",
    "#         print(ent.text, ent.label_, ent.lemma_)\n",
    "#     print(\"=====\")"
   ]
  },
  {
   "cell_type": "markdown",
   "metadata": {},
   "source": [
    "#### start ann"
   ]
  },
  {
   "cell_type": "code",
   "execution_count": 5,
   "metadata": {},
   "outputs": [],
   "source": [
    "def ann_sent_info(text):\n",
    "    sent_list = []\n",
    "\n",
    "    doc = nlp(text)\n",
    "    for sent_idx, sent in enumerate(doc.sents):\n",
    "        sent_info = {}\n",
    "        sent_info[\"sent\"] = sent\n",
    "        sent_info[\"token\"] = [] # info of each token\n",
    "        tmp_idx_dict = dict()\n",
    "        for tok_idx, tok in enumerate(sent):\n",
    "            if tok.lemma_ == \"-PRON-\":\n",
    "                lemma = tok.text.lower()\n",
    "            else: \n",
    "                lemma = tok.lemma_\n",
    "            s = {\n",
    "                \"word\": tok.text,\n",
    "                \"pos\": tok.pos_,\n",
    "                \"ner\": None,\n",
    "                \"lemma\": lemma,\n",
    "                \"sent_idx\": sent_idx,\n",
    "                \"tok_idx\": tok_idx,\n",
    "            }\n",
    "            sent_info[\"token\"].append(s)\n",
    "            if tok.lemma_ not in tmp_idx_dict:\n",
    "                tmp_idx_dict[tok.lemma_] = [tok_idx]\n",
    "            else:\n",
    "                tmp_idx_dict[tok.lemma_].append(tok_idx)\n",
    "        \n",
    "        sent_info[\"dep\"] = []   # info of the dependency between tokens\n",
    "        for tok_idx, tok in enumerate(sent):\n",
    "            if tok != tok.head: # tok==tok.head => no dep point to tok\n",
    "                dep = {\n",
    "                    \"source\": tmp_idx_dict[tok.head.lemma_][0],  # token head \n",
    "                    \"target\": tmp_idx_dict[tok.lemma_][0],  # token\n",
    "                    \"dep\": tok.dep_,\n",
    "                    \"sent_idx\": sent_idx\n",
    "                }\n",
    "                if len(tmp_idx_dict[tok.lemma_]) > 1:\n",
    "                    tmp_idx_dict[tok.lemma_].pop(0) # del first idx in the list\n",
    "                sent_info[\"dep\"].append(dep)\n",
    "        sent_list.append(sent_info)\n",
    "    return sent_list"
   ]
  },
  {
   "cell_type": "code",
   "execution_count": 6,
   "metadata": {
    "scrolled": false
   },
   "outputs": [
    {
     "data": {
      "text/plain": [
       "[{'sent': They are cool.,\n",
       "  'token': [{'word': 'They',\n",
       "    'pos': 'PRON',\n",
       "    'ner': None,\n",
       "    'lemma': 'they',\n",
       "    'sent_idx': 0,\n",
       "    'tok_idx': 0},\n",
       "   {'word': 'are',\n",
       "    'pos': 'VERB',\n",
       "    'ner': None,\n",
       "    'lemma': 'be',\n",
       "    'sent_idx': 0,\n",
       "    'tok_idx': 1},\n",
       "   {'word': 'cool',\n",
       "    'pos': 'ADJ',\n",
       "    'ner': None,\n",
       "    'lemma': 'cool',\n",
       "    'sent_idx': 0,\n",
       "    'tok_idx': 2},\n",
       "   {'word': '.',\n",
       "    'pos': 'PUNCT',\n",
       "    'ner': None,\n",
       "    'lemma': '.',\n",
       "    'sent_idx': 0,\n",
       "    'tok_idx': 3}],\n",
       "  'dep': [{'source': 1, 'target': 0, 'dep': 'nsubj', 'sent_idx': 0},\n",
       "   {'source': 1, 'target': 2, 'dep': 'acomp', 'sent_idx': 0},\n",
       "   {'source': 1, 'target': 3, 'dep': 'punct', 'sent_idx': 0}]}]"
      ]
     },
     "execution_count": 6,
     "metadata": {},
     "output_type": "execute_result"
    }
   ],
   "source": [
    "t = \"Taiwan people need Taiwan government.\"\n",
    "#t = \"Robin Kuo is walking away from the house. The house is very scary.\"\n",
    "t = \"They are cool.\"\n",
    "ann_sent_info(t)"
   ]
  },
  {
   "cell_type": "code",
   "execution_count": 7,
   "metadata": {},
   "outputs": [
    {
     "name": "stdout",
     "output_type": "stream",
     "text": [
      "{0: {0: 'he=PRON', 1: 'be=VERB', 2: 'cool=ADJ', 3: ',=PUNCT', 4: 'nice=ADJ', 5: 'and=CCONJ', 6: 'tall=ADJ'}}\n",
      "dict_keys(['he=PRON', 'be=VERB', 'cool=ADJ', ',=PUNCT', 'nice=ADJ', 'and=CCONJ', 'tall=ADJ'])\n"
     ]
    }
   ],
   "source": [
    "### create all nodes\n",
    "def create_all_nodes(sent_list):\n",
    "    node_dict = {}  # save the nodes\n",
    "    node_index = {} # table convert tok_sent_idx to node_key\n",
    "\n",
    "    for sent_idx, sent_info in enumerate(sent_list):\n",
    "        node_index[sent_idx] = {}\n",
    "        compound_list = []\n",
    "        for tok in sent_info['token']:\n",
    "            node_key = tok['lemma'] + \"=\" + tok['pos']\n",
    "            node_index[sent_idx][tok['tok_idx']] = node_key\n",
    "            \n",
    "            # save node_key in node_dict\n",
    "            if node_key not in node_dict:\n",
    "                node_dict[node_key] = [tok]\n",
    "            else:\n",
    "                node_dict[node_key].append(tok)\n",
    "                \n",
    "        # 從dependency 找 compound\n",
    "        node_dict, node_index = process_compound_dep(sent_info, node_dict, node_index)\n",
    "    return node_dict, node_index\n",
    "\n",
    "def process_compound_dep(sent_info, node_dict, node_index):\n",
    "    for dep in sent_info['dep']:\n",
    "        if \"compound\" in dep['dep']:\n",
    "            source_node_key = node_index[dep['sent_idx']][dep['source']]\n",
    "            if len(node_dict[source_node_key]) > 1: # node already merged (by ner\n",
    "                continue\n",
    "            else:\n",
    "                merge_two_node(node_dict, node_index, sent_info['token'], dep)\n",
    "    return node_dict, node_index\n",
    "\n",
    "def merge_two_node(node_dict, node_index, tok, dep):\n",
    "    source_idx = dep['source']\n",
    "    target_idx = dep['target']\n",
    "    sent_idx = dep['sent_idx']\n",
    "\n",
    "    tok_original_pos = tok[source_idx]['pos']\n",
    "    node_key = tok[target_idx]['lemma'] + '_' + tok[source_idx]['lemma'] + \"=\" + tok_original_pos\n",
    "\n",
    "#     print(\"==============\")\n",
    "#     print(node_key)\n",
    "#     print(node_index[sent_idx][source_idx])\n",
    "#     print(node_index[sent_idx][target_idx])\n",
    "#     print(\"==============\")\n",
    "    \n",
    "#     remove_before_merge_node(node_dict, node_index[sent_idx][source_idx], sent_idx, source_idx)\n",
    "#     remove_before_merge_node(node_dict, node_index[sent_idx][target_idx], sent_idx, target_idx)\n",
    "#     node_index[sent_idx][source_idx] = node_key\n",
    "#     node_index[sent_idx][target_idx] = node_key\n",
    "\n",
    "    if node_key not in node_dict:\n",
    "        node_dict[node_key] = [tok[source_idx], tok[target_idx]]\n",
    "    else:\n",
    "        node_dict[node_key].extend([tok[source_idx], tok[target_idx]])\n",
    "#    return node_dict, node_index    \n",
    "\n",
    "def remove_before_merge_node(node_dict, node_key, sent_idx, tok_idx):\n",
    "    if len(node_dict[node_key]) > 1:\n",
    "        for node_idx, node in enumerate(node_dict[node_key]):\n",
    "            if node['sent_idx'] == sent_idx and node['tok_idx'] == tok_idx:\n",
    "                del node_dict[node_key][node_idx]\n",
    "                break\n",
    "    else:\n",
    "        node_dict.pop(node_key)\n",
    "\n",
    "# example\n",
    "# text = \"Taiwan engineers lives in Taiwan house.\"\n",
    "#text = \"Taiwan is where Taiwan engineers lives.\"\n",
    "# text = \"Robin Kuo took off his shoe. Robin give up. Kevin also will not give up.\"\n",
    "text = \"He is cool, nice and tall\"\n",
    "sent_list = ann_sent_info(text)\n",
    "node_dict, node_index = create_all_nodes(sent_list)\n",
    "print(node_index)\n",
    "print(node_dict.keys())"
   ]
  },
  {
   "cell_type": "code",
   "execution_count": 8,
   "metadata": {},
   "outputs": [
    {
     "name": "stdout",
     "output_type": "stream",
     "text": [
      "['he=PRON', 'be=VERB', 'cool=ADJ', ',=PUNCT', 'nice=ADJ', 'and=CCONJ', 'tall=ADJ']\n"
     ]
    },
    {
     "data": {
      "text/plain": [
       "[('be=VERB', 'he=PRON', 'nsubj'),\n",
       " ('be=VERB', 'cool=ADJ', 'acomp'),\n",
       " ('be=VERB', 'nice=ADJ', 'acomp'),\n",
       " ('be=VERB', 'tall=ADJ', 'acomp')]"
      ]
     },
     "execution_count": 8,
     "metadata": {},
     "output_type": "execute_result"
    }
   ],
   "source": [
    "def create_relation_between_node(sent_list, node_dict, node_index, all_dep=False):\n",
    "    dep_list = []\n",
    "    for sent_idx, sent_info in enumerate(sent_list):\n",
    "        if all_dep:\n",
    "            for dep in sent_info[\"dep\"]:\n",
    "                source = node_index[sent_idx][ dep['source'] ]\n",
    "                target = node_index[sent_idx][ dep['target'] ]\n",
    "                dep_list.append((source, target, dep['dep']))\n",
    "        else:\n",
    "            for dep in sent_info[\"dep\"]:\n",
    "                source = node_index[sent_idx][ dep['source'] ]\n",
    "                target = node_index[sent_idx][ dep['target'] ]\n",
    "                if dep['dep'] == 'nsubj':\n",
    "                    dep_list.append((source, target, dep['dep']))\n",
    "                elif dep['dep'] in ['obl','obj', 'lobj', 'dobj', 'iobj']:\n",
    "                    dep_list.append((source, target, dep['dep']))\n",
    "                elif dep['dep'] in ['xcomp', 'ccomp']:\n",
    "                    dep_list.append((source, target, dep['dep']))\n",
    "                elif dep['dep'] in ['acomp']:\n",
    "                    dep_list.append((source, target, dep['dep']))\n",
    "                elif dep['dep'] in ['advmod']: # reverse: big->very => very->big\n",
    "                     dep_list.append((target, source, dep['dep']))\n",
    "#                    dep_list.append((source, target, dep['dep']))\n",
    "                elif dep['dep'] == 'nmod':\n",
    "                    dep_list.append((source, target, dep['dep']))\n",
    "                elif dep['dep'] in [\"conj\"]:\n",
    "                    for past_dep in dep_list:\n",
    "                        past_source = past_dep[0]\n",
    "                        past_target = past_dep[1]\n",
    "                        past_dep = past_dep[2]\n",
    "                        if source == past_source:  # text = \"I am cool and tall.\"\n",
    "                            dep_list.append((target, past_target, past_dep))\n",
    "                            break\n",
    "                        elif source == past_target: # text = \"I eat egg and pie.\"\n",
    "                            dep_list.append((past_source, target, past_dep))\n",
    "                            break\n",
    "                    # before: ('cool=JJ', 'I=NN', 'nsubj'), ('cool=JJ', 'tall=JJ', 'conj')\n",
    "                    # after:  ('cool=JJ', 'I=NN', 'nsubj'), ('tall=JJ', 'I=NN', 'nsubj')\n",
    "    return dep_list\n",
    "\n",
    "# example\n",
    "# text = \"I drink water, milk and juice.\"\n",
    "# text = \"Robin took off his shoe and ran into the water. After he returned the shoe was gone.\"\n",
    "# text = \"Robin Kuo took off his shoe. Robin give up. Kevin also will not give up.\"\n",
    "text = \"He is cool, nice and tall\"\n",
    "#text = \"Jon Sena gave up his dinner table in the World Wild University. He later give up another dinner table here.\"\n",
    "sent_list = ann_sent_info(text)\n",
    "node_dict, node_index = create_all_nodes(sent_list)\n",
    "print( [i for i in node_dict] )\n",
    "dep_list = create_relation_between_node(sent_list, node_dict, node_index, all_dep=False)\n",
    "dep_list"
   ]
  },
  {
   "cell_type": "code",
   "execution_count": 9,
   "metadata": {},
   "outputs": [],
   "source": [
    "import networkx as nx \n",
    "import matplotlib.pyplot as plt \n",
    "\n",
    "def draw_undirect_graph(dep_list):\n",
    "    G = nx.MultiGraph() \n",
    "    relations = dep_list\n",
    "    \n",
    "    for i in relations: \n",
    "        G.add_edge(i[0], i[1], relation = i[2]) \n",
    "\n",
    "    plt.figure(figsize =(9, 9)) \n",
    "    nx.draw_networkx(G, with_label = True, node_color=\"yellow\") \n",
    "\n",
    "    # getting various graph properties \n",
    "    print(\"Total number of nodes: \", int(G.number_of_nodes())) \n",
    "    print(\"Total number of edges: \", int(G.number_of_edges())) \n",
    "    print(\"List of all nodes: \", list(G.nodes())) \n",
    "    print(\"List of all edges: \", list(G.edges(data = True))) \n",
    "    print(\"Degree for all nodes: \", dict(G.degree())) \n",
    "    return G\n",
    "\n",
    "def draw_direct_graph(dep_list):\n",
    "    G = nx.DiGraph() \n",
    "    \n",
    "    nodes_list = []\n",
    "    for node in dep_list:\n",
    "        nodes_list.append( (node[0], node[1]) )\n",
    "    #nodes_list = [(1,1),(2,2),(3,2)]\n",
    "    #nodes_list = [('2=end', '1=The'), ('6=command', '4=the'),('2=end', '6=command'),('2=end', '7=.'),('6=command', '3=of'),('6=command', '5=CPU')]\n",
    "    G.add_edges_from(nodes_list)\n",
    "\n",
    "    plt.figure(figsize =(9, 9)) \n",
    "    nx.draw_networkx(G, with_label = True, node_color ='yellow') \n",
    "\n",
    "    # getting different graph attributes \n",
    "    print(\"Total number of nodes: \", int(G.number_of_nodes())) \n",
    "    print(\"Total number of edges: \", int(G.number_of_edges())) \n",
    "    print(\"List of all nodes: \", list(G.nodes())) \n",
    "    print(\"List of all edges: \", list(G.edges())) \n",
    "    print(\"In-degree for all nodes: \", dict(G.in_degree())) \n",
    "    print(\"Out degree for all nodes: \", dict(G.out_degree)) \n",
    "    print(\"Total number of self-loops: \", int(G.number_of_selfloops())) \n",
    "\n",
    "def text_to_graph(text, direct_graph=False):\n",
    "    sent_list = ann_sent_info(text)\n",
    "    node_dict, node_index = create_all_nodes(sent_list)\n",
    "    dep_list = create_relation_between_node(sent_list, node_dict, node_index)\n",
    "    if direct_graph is True:\n",
    "        draw_direct_graph(dep_list)\n",
    "    else:\n",
    "        draw_undirect_graph(dep_list)\n",
    "    \n",
    "# text = \"I give the toy to her.\"\n",
    "# text = \"Robin took off his shoe and ran into the water. After he returned the shoe was gone.\"\n",
    "# text = \"Jon Sena gave up his dinner table in the World Wild University. He later gave up his bag.\"\n",
    "# text = \"Robin Kuo gave the toy to the child. Robin recive my toy.\"\n",
    "# text = \"An open compound word is created in cases when the modifying adjective is used with its noun to create a new noun. This isn’t quite the same as a noun with a modifying adjective. We just use a space between the adjective and the noun, so sometimes it can be hard to identify as a compound; however, if the two words are commonly used together, it’s considered to be a compound word.\"\n",
    "# text = \"She play piano and flute.\"\n",
    "# direct_graph = True\n",
    "# text_to_graph(text, direct_graph)"
   ]
  },
  {
   "cell_type": "code",
   "execution_count": 10,
   "metadata": {
    "scrolled": false
   },
   "outputs": [
    {
     "name": "stderr",
     "output_type": "stream",
     "text": [
      "/Users/dragonfly/anaconda3/lib/python3.7/site-packages/networkx/drawing/nx_pylab.py:579: MatplotlibDeprecationWarning: \n",
      "The iterable function was deprecated in Matplotlib 3.1 and will be removed in 3.3. Use np.iterable instead.\n",
      "  if not cb.iterable(width):\n",
      "/Users/dragonfly/anaconda3/lib/python3.7/site-packages/networkx/drawing/nx_pylab.py:676: MatplotlibDeprecationWarning: \n",
      "The iterable function was deprecated in Matplotlib 3.1 and will be removed in 3.3. Use np.iterable instead.\n",
      "  if cb.iterable(node_size):  # many node sizes\n"
     ]
    },
    {
     "data": {
      "text/plain": [
       "{'scary=ADJ': 2,\n",
       " 'walk=VERB': 1,\n",
       " 'Kuo=PROPN': 1,\n",
       " 'house=NOUN': 1,\n",
       " 'away=ADV': 0,\n",
       " 'be=VERB': 0,\n",
       " 'very=ADV': 0}"
      ]
     },
     "execution_count": 10,
     "metadata": {},
     "output_type": "execute_result"
    },
    {
     "data": {
      "image/png": "[encoded data removed]",
      "text/plain": [
       "<Figure size 432x288 with 1 Axes>"
      ]
     },
     "metadata": {},
     "output_type": "display_data"
    }
   ],
   "source": [
    "def get_keyphrase_weight(text, direct=False, in_edge=False, show_graph=False,all_dep=True, div_wcnt=False):\n",
    "    \n",
    "    sent_list = ann_sent_info(text)\n",
    "    node_dict, node_index = create_all_nodes(sent_list)\n",
    "    dep_list = create_relation_between_node(sent_list, node_dict, node_index, all_dep)\n",
    "\n",
    "    if direct:\n",
    "        G = nx.DiGraph()\n",
    "    else:\n",
    "        G = nx.MultiGraph() \n",
    "    for i in dep_list: # [('cool=JJ', 'he=NN', 'nsubj')]\n",
    "        G.add_edge(i[0], i[1], relation=i[2]) \n",
    "    if show_graph:\n",
    "        nx.draw_networkx(G, with_label = True, node_color=\"yellow\")\n",
    "    \n",
    "    # ======= calculate weight ======= \n",
    "    # count how many edge attach to each node\n",
    "    node_edge_cnt_dict = dict()\n",
    "    for node in G.nodes:\n",
    "        if direct==True and in_edge==True:\n",
    "            node_edge_cnt_dict[node] = len(G.in_edges(node))\n",
    "        else: # defeault out_edge\n",
    "            node_edge_cnt_dict[node] = len(G.edges(node))\n",
    "\n",
    "    # count how many times a word had appear\n",
    "    node_word_cnt_dict = dict()\n",
    "    for node in node_dict:\n",
    "        node_word_cnt_dict[node] = len(node_dict[node])\n",
    "\n",
    "    weight_node_dict = dict()\n",
    "    for node in node_edge_cnt_dict.keys():\n",
    "        if div_wcnt:\n",
    "            weight_node_dict[node] = node_edge_cnt_dict[node] /node_word_cnt_dict[node]\n",
    "        else:\n",
    "            weight_node_dict[node] = node_edge_cnt_dict[node]\n",
    "        #print(node , node_edge_cnt_dict[node] , \"/\", node_word_cnt_dict[node], \"=\", weight_node_dict[node])\n",
    "    sorted_weight_node_dict = dict(sorted(weight_node_dict.items(), key=lambda k: k[1], reverse=True))\n",
    "    return sorted_weight_node_dict\n",
    "\n",
    "### example\n",
    "#get_keyphrase_weight(new)\n",
    "tex = \"Robin Kuo is walking away from the house. The house is very scary.\"\n",
    "get_keyphrase_weight(tex, direct=True, in_edge=True, show_graph=True, all_dep=False, div_wcnt=False)"
   ]
  },
  {
   "cell_type": "code",
   "execution_count": 13,
   "metadata": {},
   "outputs": [
    {
     "ename": "TypeError",
     "evalue": "Argument 'string' has incorrect type (expected str, got dict)",
     "output_type": "error",
     "traceback": [
      "\u001b[0;31m---------------------------------------------------------------------------\u001b[0m",
      "\u001b[0;31mTypeError\u001b[0m                                 Traceback (most recent call last)",
      "\u001b[0;32m<ipython-input-13-9e7761b06f19>\u001b[0m in \u001b[0;36m<module>\u001b[0;34m\u001b[0m\n\u001b[0;32m----> 1\u001b[0;31m \u001b[0mget_keyphrase_weight\u001b[0m\u001b[0;34m(\u001b[0m\u001b[0mnews1\u001b[0m\u001b[0;34m,\u001b[0m \u001b[0mdirect\u001b[0m\u001b[0;34m=\u001b[0m\u001b[0;32mTrue\u001b[0m\u001b[0;34m,\u001b[0m \u001b[0min_edge\u001b[0m\u001b[0;34m=\u001b[0m\u001b[0;32mTrue\u001b[0m\u001b[0;34m,\u001b[0m \u001b[0mshow_graph\u001b[0m\u001b[0;34m=\u001b[0m\u001b[0;32mTrue\u001b[0m\u001b[0;34m,\u001b[0m \u001b[0mall_dep\u001b[0m\u001b[0;34m=\u001b[0m\u001b[0;32mFalse\u001b[0m\u001b[0;34m)\u001b[0m\u001b[0;34m\u001b[0m\u001b[0;34m\u001b[0m\u001b[0m\n\u001b[0m",
      "\u001b[0;32m<ipython-input-10-a2720d6ae74b>\u001b[0m in \u001b[0;36mget_keyphrase_weight\u001b[0;34m(text, direct, in_edge, show_graph, all_dep, div_wcnt)\u001b[0m\n\u001b[1;32m      1\u001b[0m \u001b[0;32mdef\u001b[0m \u001b[0mget_keyphrase_weight\u001b[0m\u001b[0;34m(\u001b[0m\u001b[0mtext\u001b[0m\u001b[0;34m,\u001b[0m \u001b[0mdirect\u001b[0m\u001b[0;34m=\u001b[0m\u001b[0;32mFalse\u001b[0m\u001b[0;34m,\u001b[0m \u001b[0min_edge\u001b[0m\u001b[0;34m=\u001b[0m\u001b[0;32mFalse\u001b[0m\u001b[0;34m,\u001b[0m \u001b[0mshow_graph\u001b[0m\u001b[0;34m=\u001b[0m\u001b[0;32mFalse\u001b[0m\u001b[0;34m,\u001b[0m\u001b[0mall_dep\u001b[0m\u001b[0;34m=\u001b[0m\u001b[0;32mTrue\u001b[0m\u001b[0;34m,\u001b[0m \u001b[0mdiv_wcnt\u001b[0m\u001b[0;34m=\u001b[0m\u001b[0;32mFalse\u001b[0m\u001b[0;34m)\u001b[0m\u001b[0;34m:\u001b[0m\u001b[0;34m\u001b[0m\u001b[0;34m\u001b[0m\u001b[0m\n\u001b[1;32m      2\u001b[0m \u001b[0;34m\u001b[0m\u001b[0m\n\u001b[0;32m----> 3\u001b[0;31m     \u001b[0msent_list\u001b[0m \u001b[0;34m=\u001b[0m \u001b[0mann_sent_info\u001b[0m\u001b[0;34m(\u001b[0m\u001b[0mtext\u001b[0m\u001b[0;34m)\u001b[0m\u001b[0;34m\u001b[0m\u001b[0;34m\u001b[0m\u001b[0m\n\u001b[0m\u001b[1;32m      4\u001b[0m     \u001b[0mnode_dict\u001b[0m\u001b[0;34m,\u001b[0m \u001b[0mnode_index\u001b[0m \u001b[0;34m=\u001b[0m \u001b[0mcreate_all_nodes\u001b[0m\u001b[0;34m(\u001b[0m\u001b[0msent_list\u001b[0m\u001b[0;34m)\u001b[0m\u001b[0;34m\u001b[0m\u001b[0;34m\u001b[0m\u001b[0m\n\u001b[1;32m      5\u001b[0m     \u001b[0mdep_list\u001b[0m \u001b[0;34m=\u001b[0m \u001b[0mcreate_relation_between_node\u001b[0m\u001b[0;34m(\u001b[0m\u001b[0msent_list\u001b[0m\u001b[0;34m,\u001b[0m \u001b[0mnode_dict\u001b[0m\u001b[0;34m,\u001b[0m \u001b[0mnode_index\u001b[0m\u001b[0;34m,\u001b[0m \u001b[0mall_dep\u001b[0m\u001b[0;34m)\u001b[0m\u001b[0;34m\u001b[0m\u001b[0;34m\u001b[0m\u001b[0m\n",
      "\u001b[0;32m<ipython-input-5-da4ed541e9d8>\u001b[0m in \u001b[0;36mann_sent_info\u001b[0;34m(text)\u001b[0m\n\u001b[1;32m      2\u001b[0m     \u001b[0msent_list\u001b[0m \u001b[0;34m=\u001b[0m \u001b[0;34m[\u001b[0m\u001b[0;34m]\u001b[0m\u001b[0;34m\u001b[0m\u001b[0;34m\u001b[0m\u001b[0m\n\u001b[1;32m      3\u001b[0m \u001b[0;34m\u001b[0m\u001b[0m\n\u001b[0;32m----> 4\u001b[0;31m     \u001b[0mdoc\u001b[0m \u001b[0;34m=\u001b[0m \u001b[0mnlp\u001b[0m\u001b[0;34m(\u001b[0m\u001b[0mtext\u001b[0m\u001b[0;34m)\u001b[0m\u001b[0;34m\u001b[0m\u001b[0;34m\u001b[0m\u001b[0m\n\u001b[0m\u001b[1;32m      5\u001b[0m     \u001b[0;32mfor\u001b[0m \u001b[0msent_idx\u001b[0m\u001b[0;34m,\u001b[0m \u001b[0msent\u001b[0m \u001b[0;32min\u001b[0m \u001b[0menumerate\u001b[0m\u001b[0;34m(\u001b[0m\u001b[0mdoc\u001b[0m\u001b[0;34m.\u001b[0m\u001b[0msents\u001b[0m\u001b[0;34m)\u001b[0m\u001b[0;34m:\u001b[0m\u001b[0;34m\u001b[0m\u001b[0;34m\u001b[0m\u001b[0m\n\u001b[1;32m      6\u001b[0m         \u001b[0msent_info\u001b[0m \u001b[0;34m=\u001b[0m \u001b[0;34m{\u001b[0m\u001b[0;34m}\u001b[0m\u001b[0;34m\u001b[0m\u001b[0;34m\u001b[0m\u001b[0m\n",
      "\u001b[0;32m~/anaconda3/lib/python3.7/site-packages/spacy/language.py\u001b[0m in \u001b[0;36m__call__\u001b[0;34m(self, text, disable, component_cfg)\u001b[0m\n\u001b[1;32m    375\u001b[0m                 \u001b[0mErrors\u001b[0m\u001b[0;34m.\u001b[0m\u001b[0mE088\u001b[0m\u001b[0;34m.\u001b[0m\u001b[0mformat\u001b[0m\u001b[0;34m(\u001b[0m\u001b[0mlength\u001b[0m\u001b[0;34m=\u001b[0m\u001b[0mlen\u001b[0m\u001b[0;34m(\u001b[0m\u001b[0mtext\u001b[0m\u001b[0;34m)\u001b[0m\u001b[0;34m,\u001b[0m \u001b[0mmax_length\u001b[0m\u001b[0;34m=\u001b[0m\u001b[0mself\u001b[0m\u001b[0;34m.\u001b[0m\u001b[0mmax_length\u001b[0m\u001b[0;34m)\u001b[0m\u001b[0;34m\u001b[0m\u001b[0;34m\u001b[0m\u001b[0m\n\u001b[1;32m    376\u001b[0m             )\n\u001b[0;32m--> 377\u001b[0;31m         \u001b[0mdoc\u001b[0m \u001b[0;34m=\u001b[0m \u001b[0mself\u001b[0m\u001b[0;34m.\u001b[0m\u001b[0mmake_doc\u001b[0m\u001b[0;34m(\u001b[0m\u001b[0mtext\u001b[0m\u001b[0;34m)\u001b[0m\u001b[0;34m\u001b[0m\u001b[0;34m\u001b[0m\u001b[0m\n\u001b[0m\u001b[1;32m    378\u001b[0m         \u001b[0;32mif\u001b[0m \u001b[0mcomponent_cfg\u001b[0m \u001b[0;32mis\u001b[0m \u001b[0;32mNone\u001b[0m\u001b[0;34m:\u001b[0m\u001b[0;34m\u001b[0m\u001b[0;34m\u001b[0m\u001b[0m\n\u001b[1;32m    379\u001b[0m             \u001b[0mcomponent_cfg\u001b[0m \u001b[0;34m=\u001b[0m \u001b[0;34m{\u001b[0m\u001b[0;34m}\u001b[0m\u001b[0;34m\u001b[0m\u001b[0;34m\u001b[0m\u001b[0m\n",
      "\u001b[0;32m~/anaconda3/lib/python3.7/site-packages/spacy/language.py\u001b[0m in \u001b[0;36mmake_doc\u001b[0;34m(self, text)\u001b[0m\n\u001b[1;32m    399\u001b[0m \u001b[0;34m\u001b[0m\u001b[0m\n\u001b[1;32m    400\u001b[0m     \u001b[0;32mdef\u001b[0m \u001b[0mmake_doc\u001b[0m\u001b[0;34m(\u001b[0m\u001b[0mself\u001b[0m\u001b[0;34m,\u001b[0m \u001b[0mtext\u001b[0m\u001b[0;34m)\u001b[0m\u001b[0;34m:\u001b[0m\u001b[0;34m\u001b[0m\u001b[0;34m\u001b[0m\u001b[0m\n\u001b[0;32m--> 401\u001b[0;31m         \u001b[0;32mreturn\u001b[0m \u001b[0mself\u001b[0m\u001b[0;34m.\u001b[0m\u001b[0mtokenizer\u001b[0m\u001b[0;34m(\u001b[0m\u001b[0mtext\u001b[0m\u001b[0;34m)\u001b[0m\u001b[0;34m\u001b[0m\u001b[0;34m\u001b[0m\u001b[0m\n\u001b[0m\u001b[1;32m    402\u001b[0m \u001b[0;34m\u001b[0m\u001b[0m\n\u001b[1;32m    403\u001b[0m     \u001b[0;32mdef\u001b[0m \u001b[0mupdate\u001b[0m\u001b[0;34m(\u001b[0m\u001b[0mself\u001b[0m\u001b[0;34m,\u001b[0m \u001b[0mdocs\u001b[0m\u001b[0;34m,\u001b[0m \u001b[0mgolds\u001b[0m\u001b[0;34m,\u001b[0m \u001b[0mdrop\u001b[0m\u001b[0;34m=\u001b[0m\u001b[0;36m0.0\u001b[0m\u001b[0;34m,\u001b[0m \u001b[0msgd\u001b[0m\u001b[0;34m=\u001b[0m\u001b[0;32mNone\u001b[0m\u001b[0;34m,\u001b[0m \u001b[0mlosses\u001b[0m\u001b[0;34m=\u001b[0m\u001b[0;32mNone\u001b[0m\u001b[0;34m,\u001b[0m \u001b[0mcomponent_cfg\u001b[0m\u001b[0;34m=\u001b[0m\u001b[0;32mNone\u001b[0m\u001b[0;34m)\u001b[0m\u001b[0;34m:\u001b[0m\u001b[0;34m\u001b[0m\u001b[0;34m\u001b[0m\u001b[0m\n",
      "\u001b[0;31mTypeError\u001b[0m: Argument 'string' has incorrect type (expected str, got dict)"
     ]
    }
   ],
   "source": [
    "get_keyphrase_weight(news1, direct=True, in_edge=True, show_graph=True, all_dep=False)"
   ]
  },
  {
   "cell_type": "code",
   "execution_count": null,
   "metadata": {},
   "outputs": [],
   "source": []
  },
  {
   "cell_type": "code",
   "execution_count": 12,
   "metadata": {},
   "outputs": [],
   "source": [
    "# https://www.taipeitimes.com/News/taiwan/archives/2021/04/19/2003755957\n",
    "news1 = {\n",
    "    \"title\": \"Typhoon Surigae might bring rain, CWB says\",\n",
    "    \"content\": '''Typhoon Surigae is to bring rain to the nation’s east coast and mountainous areas in central and southern Taiwan from Wednesday to Friday, the Central Weather Bureau (CWB) said yesterday.\n",
    "As of 2pm yesterday, the typhoon’s center was 1,170km southeast of Oluanpi (鵝鑾鼻), Taiwan’s southernmost tip. The radius of the storm was 280km, and it was moving northwest at 9kph, with a maximum wind speed of 198kph.\n",
    "The bureau forecasts that the storm would switch to a northerly direction when approaching the east coast of Luzon Island in the Philippines on Wednesday, CWB forecaster Lin Ding-yi (林定宜) said, adding that Surigae would then move northeast along the Bashi Channel.\n",
    "Chances of temporary showers would be high in Yilan, Hualien and Taitung counties, as well as in the mountainous areas of central and southern Taiwan, he said.\n",
    "Surigae was to maintain its strength yesterday and today, Lin said, adding that similarly strong typhoons in April occurred in 1997, 2003 and 2015.\n",
    "Typhoons usually occur from July to September, the bureau said.\n",
    "Residents on the northern, eastern and southern coasts as well as those in Penghu and Kinmen counties should be prepared for swells, Lin said.\n",
    "Peng Chi-ming (彭啟明), chief executive of WeatherRisk Explore Inc, yesterday wrote on Facebook that Surigae was at the peak of its strength, with lightning frequently occurring at its eye and convection at its circumfluence.\n",
    "If it made landfall at this strength, it might cause a major disaster, he said.\n",
    "However, it was a good sign that convective heat transfer in mountainous areas began to occur yesterday afternoon, Peng said.\n",
    "“Convective heat transfer usually occurs on the west coast in April, but this year, it did not occur until yesterday,” he said.\n",
    "Thermal instability in the mountains of southern Taiwan were influenced by the typhoon, he added.\n",
    "CWB Director-General Cheng Ming-dean (鄭明典) said that Surigae has a double eyewall, which is generally a feature of strong typhoons, indicating that the storm might grow further before reaching Luzon.\n",
    "However, Surigae would gradually weaken once it is moving away from Luzon, Cheng said, citing conditions unfavorable for the typhoon.\n",
    "WeatherRisk analyst Wu Sheng-yu (吳聖宇) wrote on Facebook that Surigae would likely remain east of the Philippines for at least three to four days, and then accelerate its northward motion.\n",
    "“When the westerly trough abates, Surigae could also bring rain from southeast China. This might be the best opportunity we have for rain since the beginning of this month. If rain does not occur this time, we might have to wait for next month,” Wu said.\n",
    "Meanwhile, poor air quality was early yesterday recorded in the outlying island counties of Kinmen and Penghu, and parts of western Taiwan due to pollutants from China and stagnant winds, the Environmental Protection Administration said.\n",
    "At 9am, 20 air monitoring stations in areas north of Hsinchu County and in Penghu and Kinmen detected generally unhealthy air quality at the “red alert” level, the agency said.\n",
    "'''}"
   ]
  },
  {
   "cell_type": "code",
   "execution_count": 14,
   "metadata": {},
   "outputs": [
    {
     "data": {
      "text/plain": [
       "['Typhoon=PROPN',\n",
       " 'Surigae=PROPN',\n",
       " 'may=VERB',\n",
       " 'bring=VERB',\n",
       " 'rain=NOUN',\n",
       " ',=PUNCT',\n",
       " 'CWB=PROPN',\n",
       " 'say=VERB',\n",
       " 'Typhoon_Surigae=PROPN']"
      ]
     },
     "execution_count": 14,
     "metadata": {},
     "output_type": "execute_result"
    }
   ],
   "source": [
    "sent_list = ann_sent_info(news1[\"title\"])\n",
    "node_dict, _ = create_all_nodes(sent_list)\n",
    "title_word_list = list(node_dict.keys())\n",
    "title_word_list"
   ]
  },
  {
   "cell_type": "code",
   "execution_count": 16,
   "metadata": {},
   "outputs": [
    {
     "name": "stdout",
     "output_type": "stream",
     "text": [
      "Surigae=PROPN 8\n",
      "bring=VERB 2\n",
      "rain=NOUN 2\n",
      "say=VERB 0\n"
     ]
    }
   ],
   "source": [
    "keyword_dict = get_keyphrase_weight(news1['content'], direct=True, in_edge=True, show_graph=False, all_dep=False)\n",
    "for k in title_word_list:\n",
    "    if k in keyword_dict:\n",
    "        print(k, keyword_dict[k])"
   ]
  },
  {
   "cell_type": "code",
   "execution_count": 23,
   "metadata": {
    "scrolled": true
   },
   "outputs": [
    {
     "data": {
      "text/plain": [
       "{'Surigae=PROPN': 8,\n",
       " 'be=VERB': 5,\n",
       " 'move=VERB': 5,\n",
       " 'it=PRON': 5,\n",
       " 'occur=VERB': 5,\n",
       " 'bring=VERB': 2,\n",
       " 'rain=NOUN': 2,\n",
       " 'bureau=NOUN': 2,\n",
       " 'storm=NOUN': 2,\n",
       " 'he=PRON': 2,\n",
       " 'transfer=NOUN': 2,\n",
       " 'grow=VERB': 2,\n",
       " 'weaken=VERB': 2,\n",
       " 'remain=VERB': 2,\n",
       " 'quality=NOUN': 2,\n",
       " 'Bureau=PROPN': 1,\n",
       " 'center=NOUN': 1,\n",
       " 'southeast=ADV': 1,\n",
       " 'radius=NOUN': 1,\n",
       " 'forecast=VERB': 1,\n",
       " 'switch=VERB': 1,\n",
       " 'approach=VERB': 1,\n",
       " 'coast=NOUN': 1,\n",
       " 'yi=PROPN': 1,\n",
       " 'chance=NOUN': 1,\n",
       " 'high=ADJ': 1,\n",
       " 'Yilan=PROPN': 1,\n",
       " 'Hualien=PROPN': 1,\n",
       " 'Taitung=PROPN': 1,\n",
       " 'as=ADV': 1,\n",
       " 'as=ADP': 1,\n",
       " 'maintain=VERB': 1,\n",
       " 'strength=NOUN': 1,\n",
       " 'Lin=PROPN': 1,\n",
       " 'strong=ADJ': 1,\n",
       " 'typhoon=NOUN': 1,\n",
       " 'Typhoons=PROPN': 1,\n",
       " 'Penghu=PROPN': 1,\n",
       " 'Kinmen=PROPN': 1,\n",
       " 'prepare=VERB': 1,\n",
       " 'ming=PROPN': 1,\n",
       " 'lightning=NOUN': 1,\n",
       " 'landfall=NOUN': 1,\n",
       " 'cause=VERB': 1,\n",
       " 'disaster=NOUN': 1,\n",
       " 'Peng=PROPN': 1,\n",
       " 'influence=VERB': 1,\n",
       " 'dean=PROPN': 1,\n",
       " 'have=VERB': 1,\n",
       " 'eyewall=NOUN': 1,\n",
       " 'which=DET': 1,\n",
       " 'Luzon=PROPN': 1,\n",
       " 'Cheng=PROPN': 1,\n",
       " 'condition=NOUN': 1,\n",
       " 'yu=PROPN': 1,\n",
       " 'least=ADV': 1,\n",
       " 'four=NUM': 1,\n",
       " 'accelerate=VERB': 1,\n",
       " 'motion=NOUN': 1,\n",
       " 'abate=NOUN': 1,\n",
       " 'trough=NOUN': 1,\n",
       " 'this=DET': 1,\n",
       " 'we=PRON': 1,\n",
       " 'wait=VERB': 1,\n",
       " 'Wu=PROPN': 1,\n",
       " 'early=ADJ': 1,\n",
       " 'Administration=PROPN': 1,\n",
       " 'detect=VERB': 1,\n",
       " 'station=NOUN': 1,\n",
       " 'area=NOUN': 1,\n",
       " 'unhealthy=ADJ': 1,\n",
       " 'alert=NOUN': 1,\n",
       " '“=ADV': 1,\n",
       " 'agency=NOUN': 1,\n",
       " 'say=VERB': 0,\n",
       " 'northwest=ADV': 0,\n",
       " 'when=ADV': 0,\n",
       " 'then=ADV': 0,\n",
       " 'add=VERB': 0,\n",
       " 'northeast=ADV': 0,\n",
       " 'county=NOUN': 0,\n",
       " 'well=ADV': 0,\n",
       " 'similarly=ADV': 0,\n",
       " 'usually=ADV': 0,\n",
       " 'write=VERB': 0,\n",
       " 'frequently=ADV': 0,\n",
       " 'make=VERB': 0,\n",
       " 'however=ADV': 0,\n",
       " 'begin=VERB': 0,\n",
       " 'generally=ADV': 0,\n",
       " 'indicate=VERB': 0,\n",
       " 'further=ADV': 0,\n",
       " 'reach=VERB': 0,\n",
       " 'gradually=ADV': 0,\n",
       " 'away=ADV': 0,\n",
       " 'cite=VERB': 0,\n",
       " 'likely=ADV': 0,\n",
       " 'at=ADV': 0,\n",
       " 'also=ADV': 0,\n",
       " 'meanwhile=ADV': 0,\n",
       " 'part=NOUN': 0,\n",
       " 'north=ADV': 0,\n",
       " 'level=NOUN': 0}"
      ]
     },
     "execution_count": 23,
     "metadata": {},
     "output_type": "execute_result"
    }
   ],
   "source": [
    "keyword_dict"
   ]
  },
  {
   "cell_type": "code",
   "execution_count": 22,
   "metadata": {},
   "outputs": [
    {
     "data": {
      "text/plain": [
       "['typhoon surigae', 'bring rain', 'cwb']"
      ]
     },
     "execution_count": 22,
     "metadata": {},
     "output_type": "execute_result"
    }
   ],
   "source": [
    "from RAKE.rake import Rake\n",
    "stoppath = \"./RAKE/SmartStoplist.txt\"\n",
    "r = Rake(stoppath)\n",
    "title_word_list = [s[0] for s in r.run(news1['title'])]\n",
    "title_word_list"
   ]
  },
  {
   "cell_type": "markdown",
   "metadata": {},
   "source": [
    "###### neuralcoref"
   ]
  },
  {
   "cell_type": "code",
   "execution_count": null,
   "metadata": {
    "scrolled": true
   },
   "outputs": [],
   "source": [
    "import spacy\n",
    "nlp = spacy.load('en')\n",
    "\n",
    "# Add neural coref to SpaCy's pipe\n",
    "import neuralcoref\n",
    "neuralcoref.add_to_pipe(nlp)\n",
    "\n",
    "# You're done. You can now use NeuralCoref as you usually manipulate a SpaCy document annotations.\n",
    "text = \"Angela lives in Boston. She is quite happy in that city.'\"\n",
    "doc2 = nlp(text)\n",
    "for ent in doc2.ents:\n",
    "    print(ent, ent._.coref_cluster)\n",
    "\n",
    "print('=====')\n",
    "text = '''On Wednesday last week, the two pilots and another crew member had flown on the same plane to the US, quarantined at a hotel during a layover and returned to Taiwan on Friday, Chuang said. The CECC had eased the quarantine rules for flight crew members on Wednesday last week, so they needed to quarantine at home for only three days after their return and took a mandatory polymerase chain reaction (PCR) test on the third day, he said. The PCR test results returned positive for the two pilots, but negative for the crew member, who is now isolating at home, he said. '''\n",
    "doc = nlp(text)\n",
    "print(doc._.has_coref)\n",
    "print(doc._.coref_clusters)"
   ]
  },
  {
   "cell_type": "code",
   "execution_count": null,
   "metadata": {},
   "outputs": [],
   "source": [
    "# https://www.taipeitimes.com/News/front/archives/2021/04/21/2003756069\n",
    "news2 = {\"title\": \"Two Taiwanese airline pilots test positive: CECC\"\n",
    "\"content\":'''\n",
    "Two Taiwanese pilots have tested positive for COVID-19, while 3,802 people have made appointments for out-of-pocket vaccinations this week, the Central Epidemic Command Center (CECC) said yesterday.\n",
    "The two men, in their 50s and 60s, who fly cargo planes for a local airline, tested positive on Monday evening, said Centers for Disease Control (CDC) Deputy Director-General Chuang Jen-hsiang (莊人祥), who is the CECC’s spokesman.\n",
    "The first man — case No. 1,078 — had flown a short-haul flight, departing and returning to Taiwan on Monday last week, and developed an itchy throat on Sunday, he said.\n",
    "The other man — case No. 1,079 — had flown long-haul flights to India and Luxembourg between April 10 and Monday last week, he added.\n",
    "On Wednesday last week, the two pilots and another crew member had flown on the same plane to the US, quarantined at a hotel during a layover and returned to Taiwan on Friday, Chuang said.\n",
    "The CECC had eased the quarantine rules for flight crew members on Wednesday last week, so they needed to quarantine at home for only three days after their return and took a mandatory polymerase chain reaction (PCR) test on the third day, he said.\n",
    "The PCR test results returned positive for the two pilots, but negative for the crew member, who is now isolating at home, he said.\n",
    "Authorities are investigating the source of infection to determine whether they were infected abroad or on the plane, he added.\n",
    "Reporting on the progress of vaccination in the nation, Chuang said that as of Monday, 33,404 people had received their first shot of the AstraZeneca vaccine.\n",
    "Four adverse vaccine events were reported on Monday. One involved a man in his 60s who experienced respiratory symptoms 16 days after vaccination, and was diagnosed with vasculitis and interstitial pneumonia.\n",
    "The man is being treated in an intensive care unit, Chuang said.\n",
    "“The symptoms are unlike the adverse events reported in other countries after AstraZeneca vaccinations, which involved blood clots,” he said, adding that the case would be discussed at a specialist meeting today.\n",
    "As of Monday afternoon, 3,802 people had booked appointments for self-pay vaccinations for this week, Chuang said.\n",
    "Thirty-one designated hospitals started accepting appointments for self-pay vaccines on Monday, with inoculations to start today.\n",
    "Chuang said that 1,407 people made appointments for today at 23 hospitals; 1,214 people made appointments for tomorrow at 23 hospitals; 963 people made appointments for Friday at 20 hospitals, and 218 people made appointments for Saturday at three hospitals.\n",
    "He also clarified a remark he made on Monday, saying that the 10,000 vaccine doses set aside for self-pay jabs would be offered as the first shot to 10,000 people, rather than the first and second shots for 5,000 people.\n",
    "More doses might be released if there is sufficient supply, he said.\n",
    "'''}"
   ]
  }
 ],
 "metadata": {
  "kernelspec": {
   "display_name": "Python 3",
   "language": "python",
   "name": "python3"
  },
  "language_info": {
   "codemirror_mode": {
    "name": "ipython",
    "version": 3
   },
   "file_extension": ".py",
   "mimetype": "text/x-python",
   "name": "python",
   "nbconvert_exporter": "python",
   "pygments_lexer": "ipython3",
   "version": "3.7.4"
  },
  "toc": {
   "base_numbering": 1,
   "nav_menu": {},
   "number_sections": true,
   "sideBar": true,
   "skip_h1_title": false,
   "title_cell": "Table of Contents",
   "title_sidebar": "Contents",
   "toc_cell": false,
   "toc_position": {},
   "toc_section_display": true,
   "toc_window_display": false
  }
 },
 "nbformat": 4,
 "nbformat_minor": 2
}
