{
 "cells": [
  {
   "cell_type": "markdown",
   "metadata": {},
   "source": [
    "rewrite a ann_text which return dep_list I can direct put into graph"
   ]
  },
  {
   "cell_type": "code",
   "execution_count": 1,
   "metadata": {},
   "outputs": [],
   "source": [
    "import spacy\n",
    "import neuralcoref\n",
    "from spacy import displacy # https://spacy.io/usage/visualizers\n",
    "def show_depparse(text):\n",
    "    doc = nlp(text)\n",
    "    displacy.render(doc, style='dep',jupyter=True)\n",
    "\n",
    "nlp = spacy.load(\"en\")\n",
    "\n",
    "def sort_dict_by_value(input_dict):\n",
    "    return dict(sorted(input_dict.items(), key=lambda k: k[1], reverse=True))"
   ]
  },
  {
   "cell_type": "markdown",
   "metadata": {
    "heading_collapsed": true
   },
   "source": [
    "### my_dep"
   ]
  },
  {
   "cell_type": "markdown",
   "metadata": {
    "heading_collapsed": true,
    "hidden": true
   },
   "source": [
    "#### remove_pronoun"
   ]
  },
  {
   "cell_type": "code",
   "execution_count": 2,
   "metadata": {
    "hidden": true
   },
   "outputs": [
    {
     "data": {
      "text/plain": [
       "'Angela lives in Boston . Angela is quite happy in that city . Angela enjoy Angela life .'"
      ]
     },
     "execution_count": 2,
     "metadata": {},
     "output_type": "execute_result"
    }
   ],
   "source": [
    "def remove_pronoun(input_t): # replace pronoun with original noun\n",
    "    neuralcoref.add_to_pipe(nlp)\n",
    "    doc = nlp(input_t)\n",
    "    cvt_dict = dict()\n",
    "    for s in doc._.coref_clusters: # find pronouns save it as dict\n",
    "        cvt_dict[str(s.main)] = [str(i) for i in s.mentions if i != s.main]\n",
    "#    print(\"pronoun dict:\", cvt_dict)\n",
    "    nlp.remove_pipe(\"neuralcoref\")\n",
    "    \n",
    "    pn_list = [] # save list as (pronoun, origin noun)\n",
    "    for pn_main in cvt_dict:\n",
    "        for pn in cvt_dict[pn_main]:\n",
    "            pn_list.append( (pn, pn_main) )\n",
    "    rm_dup_pronouns(pn_list)\n",
    "#    print(\"pronoun list without dup:\", pn_list)\n",
    "    \n",
    "    no_pronoun_t = [] # replace pronoun with origin noun\n",
    "    for tok in doc:\n",
    "        if tok.lemma_ == \"-PRON-\":\n",
    "            replace_pronoun = False\n",
    "            for pn_idx, pn in enumerate(pn_list):\n",
    "                if tok.text == pn[0]:\n",
    "                    replace_pronoun = True\n",
    "                    no_pronoun_t.append(pn[1])\n",
    "                    del(pn_list[pn_idx])\n",
    "            if pn_list is None or replace_pronoun is False:\n",
    "                no_pronoun_t.append(tok.text)\n",
    "        else:\n",
    "            no_pronoun_t.append(tok.text)\n",
    "    new_t = \" \".join(no_pronoun_t)\n",
    "\n",
    "    return new_t\n",
    "\n",
    "def rm_dup_pronouns(pn_list):\n",
    "    rm_idx_list = []\n",
    "    for idx, i in enumerate(pn_list):\n",
    "        if i[0] == i[1]:\n",
    "            rm_idx_list.append(idx)\n",
    "    rm_idx_list.reverse()\n",
    "    for rm_idx in rm_idx_list:\n",
    "        del pn_list[rm_idx]\n",
    "    # # example\n",
    "    # pn_list = [('his', 'Lo Shang-hua (羅尚樺)'),(\"it\",\"it\"), (\"the\",\"the\"), ('he', 'Lo Shang-hua (羅尚樺)'), ('Lo', 'Lo Shang-hua (羅尚樺)'), ('his aircraft', 'his aircraft'), ('his', 'Pan’s'), ('He', 'Pan’s'), ('his', 'Pan’s'), ('it', 'The Taitung District Prosecutors’ Office'), ('its', 'The Taitung District Prosecutors’ Office')]\n",
    "    # rm_dup_pronouns(pn_list)\n",
    "    # pn_list\n",
    "    \n",
    "t = 'Angela lives in Boston. She is quite happy in that city. She enjoy her life.'\n",
    "#t = \"He is nice.\"\n",
    "remove_pronoun(t)"
   ]
  },
  {
   "cell_type": "markdown",
   "metadata": {
    "hidden": true
   },
   "source": [
    "#### dep_create"
   ]
  },
  {
   "cell_type": "markdown",
   "metadata": {
    "heading_collapsed": true,
    "hidden": true
   },
   "source": [
    "##### ann_text (dep relation format)"
   ]
  },
  {
   "cell_type": "code",
   "execution_count": 3,
   "metadata": {
    "hidden": true,
    "scrolled": true
   },
   "outputs": [],
   "source": [
    "def ann_text(text, all_dep=False):\n",
    "    no_pronoun_text = remove_pronoun(text)\n",
    "    doc = nlp(no_pronoun_text)\n",
    "    dep_list = []\n",
    "    for sent_idx, sent in enumerate(doc.sents):\n",
    "        for tok_idx, tok in enumerate(sent):\n",
    "            dep = find_dep(tok, all_dep)\n",
    "            if dep is not None:\n",
    "                dep_list.extend( dep )\n",
    "    if all_dep is False:\n",
    "        merge_compound_word(dep_list, doc)\n",
    "#         print(\"===== next semt =====\")\n",
    "    return dep_list\n",
    "\n",
    "def dep_fwfw(tok, dp1, dp2, double_dir=False, reverse=False): # dep_forward_forward\n",
    "    # A->B->C  => C->A\n",
    "    #     ex: table for food\n",
    "    #         dep = (table-->for), (for-->food)\n",
    "    #             => table<--food\n",
    "    source = None\n",
    "    target = None\n",
    "    for child in tok.children:\n",
    "        if child.dep_ == dp1:\n",
    "            for cchild in child.children:\n",
    "                if cchild.dep_ == dp2:\n",
    "                    source = tok\n",
    "                    target = cchild\n",
    "    return creat_dep(source, target, double_dir, reverse)\n",
    "\n",
    "def dep_side(tok, dp1, dp2, double_dir=False, reverse=False):\n",
    "    # A<-B->C => C->A\n",
    "    #     ex: He is nice.   dep = (is->he), (is->nice) \n",
    "    #                           => nice->he\n",
    "    source = None\n",
    "    target = None\n",
    "    for child in tok.children:\n",
    "        if child.dep_ == dp1:\n",
    "            target = child\n",
    "        if child.dep_ == dp2:\n",
    "            source = child\n",
    "    return creat_dep(source, target, double_dir, reverse)\n",
    "\n",
    "def dep_rem(tok, dp, double_dir=False, reverse=False): # dep_remain\n",
    "    # A->B => A->B\n",
    "    #     ex: find->it     dep = (find->it)\n",
    "    #                          => find->it\n",
    "    source = None\n",
    "    target = None\n",
    "    for child in tok.children:\n",
    "        if child.dep_ == dp:\n",
    "            source = tok\n",
    "            target = child\n",
    "    return creat_dep(source, target, double_dir, reverse)\n",
    "    \n",
    "    \n",
    "def creat_dep(source, target, double_dir=False, reverse=False):\n",
    "    if source is not None and target is not None:\n",
    "        if double_dir:\n",
    "            return [( tok2node(source), tok2node(target) ), \n",
    "                    ( tok2node(target), tok2node(source) )]\n",
    "        else:\n",
    "            if reverse: # source -> target\n",
    "                return (tok2node(target), tok2node(source) )\n",
    "            else:\n",
    "                return (tok2node(source), tok2node(target) )\n",
    "    else:\n",
    "        return None\n",
    "def tok2node(token): # token => str( lemma=pos )\n",
    "    if type(token) is str:\n",
    "        return token\n",
    "    else:\n",
    "        tok_lemma = token.lemma_\n",
    "        if token.lemma_ == \"-PRON-\":\n",
    "            tok_lemma = token.text.lower()\n",
    "        if token.pos_ == \"PUNCT\":\n",
    "            return token.text\n",
    "        else:\n",
    "            return tok_lemma\n",
    "    #        return \"\".join([tok_lemma, '=', token.pos_])\n"
   ]
  },
  {
   "cell_type": "markdown",
   "metadata": {
    "heading_collapsed": true,
    "hidden": true
   },
   "source": [
    "##### merge compound word"
   ]
  },
  {
   "cell_type": "code",
   "execution_count": 4,
   "metadata": {
    "hidden": true
   },
   "outputs": [
    {
     "name": "stdout",
     "output_type": "stream",
     "text": [
      "([('Robin Kuo', 'Kuo')], [[('Robin Kuo', 'Robin'), ('Robin', 'Robin Kuo')], [('Robin Kuo', 'Kuo'), ('Kuo', 'Robin Kuo')]])\n"
     ]
    }
   ],
   "source": [
    "def merge_compound_word(dep_list, doc):\n",
    "    compound_word_list, all_dep_in_cpw_list = find_cpw(doc)\n",
    "    \n",
    "    cpw_dict = dict()\n",
    "    for cpw in compound_word_list:\n",
    "        main_cpw = cpw[0]\n",
    "        part_cpw = cpw[1]\n",
    "        cpw_dict[part_cpw] = main_cpw\n",
    "    \n",
    "    for idx, dep in enumerate(dep_list):\n",
    "        source = dep[0]\n",
    "        target = dep[1]\n",
    "        if source in cpw_dict:\n",
    "            dep_list[idx] = (cpw_dict[source], target)\n",
    "        elif target in cpw_dict:\n",
    "            dep_list[idx] = (source, cpw_dict[target])\n",
    "    for dep_in_cpw in all_dep_in_cpw_list:\n",
    "        dep_list.extend(dep_in_cpw)\n",
    "\n",
    "def find_cpw(doc):\n",
    "    compound_word_list = []\n",
    "    all_dep_in_cpw_list = []\n",
    "    tmp_cpw_word = []\n",
    "    cpw_head = \"\"\n",
    "    for i in doc:\n",
    "        if i.dep_ == \"compound\":\n",
    "            cpw_head = i.head.text\n",
    "            if cpw_head not in tmp_cpw_word:\n",
    "                tmp_cpw_word.append(i.text)\n",
    "        else:\n",
    "            if i.text == cpw_head:\n",
    "                tmp_cpw_word.append(cpw_head)\n",
    "                cpw, cpw_dep_list = dep_in_cpw(tmp_cpw_word)\n",
    "                compound_word_list.append( (cpw, i.text) )\n",
    "                all_dep_in_cpw_list.extend(cpw_dep_list)\n",
    "                tmp_cpw_word = []\n",
    "    return compound_word_list, all_dep_in_cpw_list\n",
    "\n",
    "def dep_in_cpw(tmp_cpw_word):\n",
    "    cpw = \" \".join(tmp_cpw_word)\n",
    "    cpw_dep_list = []            # Robin Kuo <-> Robin\n",
    "    for t in tmp_cpw_word:       #           <-> Kuo\n",
    "        cpw_dep_list.append(creat_dep(cpw, t, double_dir=True))\n",
    "    return cpw, cpw_dep_list\n",
    "\n",
    "# t = \"Robin Kuo is running\"\n",
    "# #t = \"Robin Kuo is working in National Tsin Hwa University. His best friend is Tommy Lu.\n",
    "# doc = nlp(t)\n",
    "# print(find_cpw(doc))\n",
    "# # mydep_node_dict(t, show_graph=True)"
   ]
  },
  {
   "cell_type": "markdown",
   "metadata": {
    "heading_collapsed": true,
    "hidden": true
   },
   "source": [
    "##### find_dep"
   ]
  },
  {
   "cell_type": "code",
   "execution_count": 5,
   "metadata": {
    "hidden": true
   },
   "outputs": [
    {
     "data": {
      "text/plain": [
       "[('web', 'World Wild Web'),\n",
       " ('World Wild Web', 'web'),\n",
       " ('everyone', 'web'),\n",
       " ('World Wild Web', 'World'),\n",
       " ('World', 'World Wild Web'),\n",
       " ('World Wild Web', 'Wild'),\n",
       " ('Wild', 'World Wild Web'),\n",
       " ('World Wild Web', 'Web'),\n",
       " ('Web', 'World Wild Web')]"
      ]
     },
     "execution_count": 5,
     "metadata": {},
     "output_type": "execute_result"
    }
   ],
   "source": [
    "def find_dep(tok, all_dep=False):\n",
    "    tmp_dep_list = []\n",
    "    if all_dep:\n",
    "        tmp_dep_list.append( deps(tok))\n",
    "    else:\n",
    "        tmp_dep_list.append( nsubj(tok) )\n",
    "        tmp_dep_list.append( nsubjp(tok))\n",
    "        tmp_dep_list.append( same(tok)  )\n",
    "        tmp_dep_list.append( ppobj(tok) )\n",
    "        tmp_dep_list.append( agpbj(tok) )\n",
    "        tmp_dep_list.append( dative(tok))\n",
    "        tmp_dep_list.append( ppcomp(tok))\n",
    "        tmp_dep_list.append( advcl(tok) )\n",
    "        tmp_dep_list.append(npadvmod(tok))\n",
    "        tmp_dep_list.append( amod(tok)  )\n",
    "        tmp_dep_list.append( advmod(tok))\n",
    "        tmp_dep_list.append( dobj(tok)  )\n",
    "        tmp_dep_list.append( nummod(tok))\n",
    "        tmp_dep_list.append( xcomp(tok) )\n",
    "        tmp_dep_list.append( ccomp(tok) )\n",
    "        tmp_dep_list.append( acl(tok)   )\n",
    "        tmp_dep_list.append( poss(tok)  )\n",
    "        tmp_dep_list.append( relcl(tok) )\n",
    "        tmp_dep_list.append( oprd(tok)  )\n",
    "        #tmp_dep_list.append(compound(tok))\n",
    "    return flat_rmNone_list(tmp_dep_list)\n",
    "\n",
    "def flat_rmNone_list(tmp_dep_list):\n",
    "    dep_list = []\n",
    "    for dep in tmp_dep_list:\n",
    "        if dep is None:\n",
    "            continue\n",
    "        elif type(dep) is list:\n",
    "            dep_list.extend(dep)\n",
    "        else:\n",
    "            dep_list.append(dep)\n",
    "    return dep_list\n",
    "\n",
    "def deps(tok):\n",
    "    source = None\n",
    "    target = None\n",
    "    dep_list = []\n",
    "    for child in tok.children:\n",
    "        source = tok\n",
    "        target = child\n",
    "        dep_list.append(creat_dep(source, target))\n",
    "    return flat_rmNone_list(dep_list)\n",
    "\n",
    "def nsubj(tok):\n",
    "    dep = dep_side(tok, 'nsubj', 'acomp') # \"I am nice\"\n",
    "    if dep is None:\n",
    "        dep = dep_side(tok, 'nsubj', 'attr', double_dir=True)  #\"Tom is man\"\n",
    "    if dep is None:\n",
    "        dep = dep_rem(tok, 'nsubj') # \"I ran home\"\n",
    "    return dep\n",
    "def nsubjp(tok):\n",
    "    return dep_rem(tok, 'nsubjpass') # \"dog was found\"\n",
    "def same(tok):\n",
    "    return dep_rem(tok, 'appos', double_dir=True) # \"Sam, the VIP\"\n",
    "def agpbj(tok): # agent+pobj\n",
    "    return dep_fwfw(tok, 'agent', 'pobj') # \"taken by us\"\n",
    "def ppobj(tok): # prep+pobj\n",
    "    if tok.pos_ in ['NOUN', 'PROPN']: \n",
    "        return dep_fwfw(tok, 'prep', 'pobj', reverse=True) # \"table of picnic\"\n",
    "    else:                             \n",
    "        return dep_fwfw(tok, 'prep', 'pobj') # \"some of toys\"\n",
    "def dative(tok):\n",
    "    return dep_rem(tok, 'dative') # \"gave me book\"\n",
    "def ppcomp(tok):\n",
    "    return dep_fwfw(tok, 'prep', 'pcomp') # \"play at flying\"\n",
    "def advcl(tok):\n",
    "    return dep_rem(tok, 'advcl') #\"cry when fail\"\n",
    "def npadvmod(tok):\n",
    "    return dep_rem(tok, 'npadvmod', reverse=False) # \"done this morning\"\n",
    "def amod(tok):\n",
    "    return dep_rem(tok, 'amod', reverse=True) # \"poor student\"\n",
    "def advmod(tok):\n",
    "    return dep_rem(tok, 'advmod', reverse=True) # \"less often\"\n",
    "def dobj(tok):\n",
    "    return dep_rem(tok, 'dobj') # \"find it\"\n",
    "def nummod(tok):\n",
    "    return dep_rem(tok, 'nummod', reverse=True) # \"ten books\"\n",
    "def xcomp(tok):\n",
    "    return dep_rem(tok, \"xcomp\") # \"easy to play\"\n",
    "def ccomp(tok):\n",
    "    return dep_rem(tok, \"ccomp\") # \"I conside him fool\"\n",
    "def poss(tok):\n",
    "    return dep_rem(tok, \"poss\", reverse=True) # \"his gun\"\n",
    "def relcl(tok):\n",
    "    return dep_rem(tok, \"relcl\", reverse=True) # \"girl who likes me\"\n",
    "def oprd(tok):\n",
    "    return dep_rem(tok, \"oprd\") # \"made public\"\n",
    "def acl(tok):\n",
    "    return dep_rem(tok, \"acl\", reverse=True) # \"fact that nobody care\"\n",
    "def compound(tok):\n",
    "    return dep_rem(tok, \"compound\", double_dir=True)\n",
    "\n",
    "t = \"World Wild Web is web for everyone.\"\n",
    "ann_text(t, all_dep=False)"
   ]
  },
  {
   "cell_type": "code",
   "execution_count": 6,
   "metadata": {
    "hidden": true
   },
   "outputs": [
    {
     "data": {
      "text/html": [
       "<svg xmlns=\"http://www.w3.org/2000/svg\" xmlns:xlink=\"http://www.w3.org/1999/xlink\" xml:lang=\"en\" id=\"ace901d9e939418684952c4d2c86ecdf-0\" class=\"displacy\" width=\"575\" height=\"224.5\" direction=\"ltr\" style=\"max-width: none; height: 224.5px; color: #000000; background: #ffffff; font-family: Arial; direction: ltr\">\n",
       "<text class=\"displacy-token\" fill=\"currentColor\" text-anchor=\"middle\" y=\"134.5\">\n",
       "    <tspan class=\"displacy-word\" fill=\"currentColor\" x=\"50\">Chin</tspan>\n",
       "    <tspan class=\"displacy-tag\" dy=\"2em\" fill=\"currentColor\" x=\"50\">PROPN</tspan>\n",
       "</text>\n",
       "\n",
       "<text class=\"displacy-token\" fill=\"currentColor\" text-anchor=\"middle\" y=\"134.5\">\n",
       "    <tspan class=\"displacy-word\" fill=\"currentColor\" x=\"225\">Ting,</tspan>\n",
       "    <tspan class=\"displacy-tag\" dy=\"2em\" fill=\"currentColor\" x=\"225\">PROPN</tspan>\n",
       "</text>\n",
       "\n",
       "<text class=\"displacy-token\" fill=\"currentColor\" text-anchor=\"middle\" y=\"134.5\">\n",
       "    <tspan class=\"displacy-word\" fill=\"currentColor\" x=\"400\">Kuo</tspan>\n",
       "    <tspan class=\"displacy-tag\" dy=\"2em\" fill=\"currentColor\" x=\"400\">PROPN</tspan>\n",
       "</text>\n",
       "\n",
       "<g class=\"displacy-arrow\">\n",
       "    <path class=\"displacy-arc\" id=\"arrow-ace901d9e939418684952c4d2c86ecdf-0-0\" stroke-width=\"2px\" d=\"M70,89.5 C70,2.0 225.0,2.0 225.0,89.5\" fill=\"none\" stroke=\"currentColor\"/>\n",
       "    <text dy=\"1.25em\" style=\"font-size: 0.8em; letter-spacing: 1px\">\n",
       "        <textPath xlink:href=\"#arrow-ace901d9e939418684952c4d2c86ecdf-0-0\" class=\"displacy-label\" startOffset=\"50%\" side=\"left\" fill=\"currentColor\" text-anchor=\"middle\">compound</textPath>\n",
       "    </text>\n",
       "    <path class=\"displacy-arrowhead\" d=\"M70,91.5 L62,79.5 78,79.5\" fill=\"currentColor\"/>\n",
       "</g>\n",
       "\n",
       "<g class=\"displacy-arrow\">\n",
       "    <path class=\"displacy-arc\" id=\"arrow-ace901d9e939418684952c4d2c86ecdf-0-1\" stroke-width=\"2px\" d=\"M245,89.5 C245,2.0 400.0,2.0 400.0,89.5\" fill=\"none\" stroke=\"currentColor\"/>\n",
       "    <text dy=\"1.25em\" style=\"font-size: 0.8em; letter-spacing: 1px\">\n",
       "        <textPath xlink:href=\"#arrow-ace901d9e939418684952c4d2c86ecdf-0-1\" class=\"displacy-label\" startOffset=\"50%\" side=\"left\" fill=\"currentColor\" text-anchor=\"middle\">appos</textPath>\n",
       "    </text>\n",
       "    <path class=\"displacy-arrowhead\" d=\"M400.0,91.5 L408.0,79.5 392.0,79.5\" fill=\"currentColor\"/>\n",
       "</g>\n",
       "</svg>"
      ],
      "text/plain": [
       "<IPython.core.display.HTML object>"
      ]
     },
     "metadata": {},
     "output_type": "display_data"
    }
   ],
   "source": [
    "t = \"Chin Ting, Kuo\"\n",
    "show_depparse(t)"
   ]
  },
  {
   "cell_type": "markdown",
   "metadata": {},
   "source": [
    "### calculate keyword weight"
   ]
  },
  {
   "cell_type": "code",
   "execution_count": 7,
   "metadata": {},
   "outputs": [
    {
     "name": "stderr",
     "output_type": "stream",
     "text": [
      "/Users/dragonfly/anaconda3/lib/python3.7/site-packages/networkx/drawing/nx_pylab.py:579: MatplotlibDeprecationWarning: \n",
      "The iterable function was deprecated in Matplotlib 3.1 and will be removed in 3.3. Use np.iterable instead.\n",
      "  if not cb.iterable(width):\n",
      "/Users/dragonfly/anaconda3/lib/python3.7/site-packages/networkx/drawing/nx_pylab.py:676: MatplotlibDeprecationWarning: \n",
      "The iterable function was deprecated in Matplotlib 3.1 and will be removed in 3.3. Use np.iterable instead.\n",
      "  if cb.iterable(node_size):  # many node sizes\n"
     ]
    },
    {
     "data": {
      "text/plain": [
       "{'Robin Kuo': 3,\n",
       " 'house': 2,\n",
       " 'walk': 1,\n",
       " 'scary': 1,\n",
       " 'Robin': 1,\n",
       " 'Kuo': 1,\n",
       " 'away': 0,\n",
       " 'very': 0}"
      ]
     },
     "execution_count": 7,
     "metadata": {},
     "output_type": "execute_result"
    }
   ],
   "source": [
    "import networkx as nx \n",
    "import matplotlib.pyplot as plt \n",
    "def mydep_node_dict(text, direct=True, in_edge=True, show_graph=False, all_dep=False, div_wcnt=False):\n",
    "    dep_list = ann_text(text, all_dep=all_dep)\n",
    "\n",
    "    if direct:\n",
    "        G = nx.DiGraph()\n",
    "    else:\n",
    "        G = nx.MultiGraph() \n",
    "    for i in dep_list: # [('cool=JJ', 'he=NN', 'nsubj')]\n",
    "        G.add_edge(i[0], i[1]) \n",
    "    if show_graph:\n",
    "        nx.draw_networkx(G, with_label = True, node_color=\"yellow\")\n",
    "    \n",
    "    # ======= calculate weight ======= \n",
    "    # count how many edge attach to each node\n",
    "    node_edge_cnt_dict = dict()\n",
    "    for node in G.nodes:\n",
    "        if direct==True and in_edge==True:\n",
    "            node_edge_cnt_dict[node] = len(G.in_edges(node))\n",
    "        else: # out_edge\n",
    "            node_edge_cnt_dict[node] = len(G.edges(node))\n",
    "\n",
    "    # count how many times a word had appear\n",
    "    node_word_cnt_dict = word_freq_cnt(dep_list)\n",
    "#     print(\"edge\", len(node_edge_cnt_dict))\n",
    "#     print(\"wcnt\", len(node_word_cnt_dict))\n",
    "#     print(node_word_cnt_dict)\n",
    "\n",
    "    weight_node_dict = dict()\n",
    "    for node in node_edge_cnt_dict.keys():\n",
    "        if div_wcnt:\n",
    "            weight_node_dict[node] = node_edge_cnt_dict[node] /node_word_cnt_dict[node]\n",
    "        else:\n",
    "            weight_node_dict[node] = node_edge_cnt_dict[node]\n",
    "        #print(node , node_edge_cnt_dict[node] , \"/\", node_word_cnt_dict[node], \"=\", weight_node_dict[node])\n",
    "    return sort_dict_by_value(weight_node_dict)\n",
    "\n",
    "def word_freq_cnt(dep_list):\n",
    "    freq_dict = {}\n",
    "    for node_s, node_t in dep_list:\n",
    "        if node_t not in freq_dict:\n",
    "            freq_dict[node_t] = 1\n",
    "        else:\n",
    "            freq_dict[node_t] += 1\n",
    "\n",
    "        if node_s not in freq_dict:\n",
    "            freq_dict[node_s] = 1\n",
    "        else:\n",
    "            freq_dict[node_s] += 1\n",
    "    return freq_dict\n",
    "\n",
    "### example\n",
    "#mydep_node_dict(new)\n",
    "tex = \"Robin Kuo is walking away from the house. The house is very scary.\"\n",
    "mydep_node_dict(tex, direct=True, in_edge=True, show_graph=True, all_dep=False, div_wcnt=False)"
   ]
  },
  {
   "cell_type": "markdown",
   "metadata": {
    "heading_collapsed": true
   },
   "source": [
    "### news"
   ]
  },
  {
   "cell_type": "code",
   "execution_count": 8,
   "metadata": {
    "hidden": true
   },
   "outputs": [],
   "source": [
    "news1 = {\n",
    "    \"title\": \"Typhoon Surigae might bring rain, CWB says\",\n",
    "    \"source\": \"https://www.taipeitimes.com/News/taiwan/archives/2021/04/19/2003755957\",\n",
    "    \"content\": '''\n",
    "Typhoon Surigae is to bring rain to the nation’s east coast and mountainous areas in central and southern Taiwan from Wednesday to Friday, the Central Weather Bureau (CWB) said yesterday.\n",
    "As of 2pm yesterday, the typhoon’s center was 1,170km southeast of Oluanpi (鵝鑾鼻), Taiwan’s southernmost tip. The radius of the storm was 280km, and it was moving northwest at 9kph, with a maximum wind speed of 198kph.\n",
    "The bureau forecasts that the storm would switch to a northerly direction when approaching the east coast of Luzon Island in the Philippines on Wednesday, CWB forecaster Lin Ding-yi (林定宜) said, adding that Surigae would then move northeast along the Bashi Channel.\n",
    "Chances of temporary showers would be high in Yilan, Hualien and Taitung counties, as well as in the mountainous areas of central and southern Taiwan, he said.\n",
    "Surigae was to maintain its strength yesterday and today, Lin said, adding that similarly strong typhoons in April occurred in 1997, 2003 and 2015.\n",
    "Typhoons usually occur from July to September, the bureau said.\n",
    "Residents on the northern, eastern and southern coasts as well as those in Penghu and Kinmen counties should be prepared for swells, Lin said.\n",
    "Peng Chi-ming (彭啟明), chief executive of WeatherRisk Explore Inc, yesterday wrote on Facebook that Surigae was at the peak of its strength, with lightning frequently occurring at its eye and convection at its circumfluence.\n",
    "If it made landfall at this strength, it might cause a major disaster, he said.\n",
    "However, it was a good sign that convective heat transfer in mountainous areas began to occur yesterday afternoon, Peng said.\n",
    "“Convective heat transfer usually occurs on the west coast in April, but this year, it did not occur until yesterday,” he said.\n",
    "Thermal instability in the mountains of southern Taiwan were influenced by the typhoon, he added.\n",
    "CWB Director-General Cheng Ming-dean (鄭明典) said that Surigae has a double eyewall, which is generally a feature of strong typhoons, indicating that the storm might grow further before reaching Luzon.\n",
    "However, Surigae would gradually weaken once it is moving away from Luzon, Cheng said, citing conditions unfavorable for the typhoon.\n",
    "WeatherRisk analyst Wu Sheng-yu (吳聖宇) wrote on Facebook that Surigae would likely remain east of the Philippines for at least three to four days, and then accelerate its northward motion.\n",
    "“When the westerly trough abates, Surigae could also bring rain from southeast China. This might be the best opportunity we have for rain since the beginning of this month. If rain does not occur this time, we might have to wait for next month,” Wu said.\n",
    "Meanwhile, poor air quality was early yesterday recorded in the outlying island counties of Kinmen and Penghu, and parts of western Taiwan due to pollutants from China and stagnant winds, the Environmental Protection Administration said.\n",
    "At 9am, 20 air monitoring stations in areas north of Hsinchu County and in Penghu and Kinmen detected generally unhealthy air quality at the “red alert” level, the agency said.\n",
    "'''}\n",
    "news2 = {\n",
    "    \"title\": \"Ministry raises restrictions to conserve water\",\n",
    "    \"source\": \"source: https://www.taipeitimes.com/News/front/archives/2021/04/17/2003755843\",\n",
    "    \"content\":'''\n",
    "The Ministry of Economic Affairs is to tighten water restrictions to prevent Taiwan from running out of water before the rainy season starts next month, the ministry said yesterday.\n",
    "Hsinchu County remains on “orange alert,” although industrial users that consume more than 1,000m2 of water per day have been asked to reduce consumption by 13 percent, up from the previously required 11 percent, it said, adding that Kaohsiung and Tainan industrial users would have to reduce consumption by 11 percent, up from 7 percent.\n",
    "Non-industrial large water users would have to reduce water consumption by 20 percent, up from 10 percent, it added.\n",
    "In Taoyuan, water pressure for households is to be reduced all day, in extension to the current nighttime reduction.\n",
    "“As the water shortage extends, there are only three things we can do: conserve, reallocate and find new sources of water,” Minister of Economic Affairs Wang Mei-hua (王美花) told reporters at the Central Emergency Operation Center dedicated to the nation’s water situation.\n",
    "Taichung and Miaoli County, which face the strongest effects of the shortage, are on “red alert,” and water supply in the area is switched off on two days per week.\n",
    "The measure has helped save about 15 percent of water, Wang said.\n",
    "The alert level in Hsinchu would not be upgraded to red, she said, adding that no water outages were planned.\n",
    "Pipelines supplying water from less affected regions have been instrumental in mitigating the situation, Wang said.\n",
    "“The Taoyuan-Hsinchu pipeline is delivering 225,000 tonnes of water per day, with 10,000 of that going on to Miaoli,” Wang said. “A further 100,000 tonnes a day are delivered from Yunlin County to Chiayi County, and 50,000 tonnes are delivered from Tainan to Kaohsiung.”\n",
    "New wells are also being drilled at a breakneck pace, with all available CPC Corp, Taiwan (台灣中油) engineers being employed by the ministry, she said.\n",
    "“At two sites near Taichung, engineers struck ground water,” Wang said. “We are expediting the installation of filters and the certification of the well.”\n",
    "The two wells might provide up to 48,000 tonnes per day, enough for 200,000 people, she added.\n",
    "Nationwide, 88 emergency wells would be dug, adding to the 25 existing emergency wells, she said.\n",
    "The wells would provide up to 115,000 tonnes as early as at the end of this month, enough to supply 500,000 people, she added\n",
    "Engineers are drilling three wells in Miaoli County’s Liyutan (鯉魚潭), which would provide 15,000 tonnes per day, she said.\n",
    "“We compressed months of work into weeks to find new water resources,” Wang said.\n",
    "Asked whether the water level at the Shimen Reservoir (石門水庫), which supplies the Taoyuan-Hsinchu pipeline, might fall to below 30 percent, Wang said that the level is above expectations.\n",
    "“In February and March, we were expecting the level to be lower than it is now,” Wang said. “We are trying to find alternate sources to make sure that the level remains as high as possible.”\n",
    "'''}\n",
    "news3 = {\n",
    "    \"title\": \"Dozens change name to ‘salmon’\",\n",
    "    \"source\": \"source: https://www.taipeitimes.com/News/taiwan/archives/2021/03/18/2003754047\",\n",
    "    \"content\":'''\n",
    "Household registration offices nationwide have since Tuesday been flooded with people applying to change their name to “salmon” (guiyu, 鮭魚), after Japanese sushi restaurant chain Akindo Sushiro promised free meals for anyone with the name.\n",
    "Yesterday and today, those with proof of the unusual moniker can receive free meals for their entire table, while people with homophonic names can enjoy half price and those with at least one homophonic character can receive 10 percent off.\n",
    "Twenty-eight people had claimed free meals as of 3pm yesterday, while at least 1,000 people had participated in the promotion, Akindo Sushiro said.\n",
    "An applicant must pay NT$80 for a new identification card and household registration certificate, the Taipei Department of Civil Affairs said, adding that at least 20 people had applied by early afternoon.\n",
    "As of late afternoon, New Taipei City and Kaohsiung had 26 people who changed their name to “salmon,” while Taichung had 22, and Tainan and Taoyuan each had 14.\n",
    "In Taichung, a college student surnamed Kuo (郭) changed her name to Kuo “Salmon Rice Bowl” (郭鮭魚丼飯) to treat her friends, but told reporters that she plans to change it back tomorrow.\n",
    "Two others managed to eat NT$13,000 worth of sushi in one sitting with their friends, saying online: “I do not think we will want to eat salmon again for a while.”\n",
    "Another participant set a new record for longest name at 36 characters, already dethroning the previous titleholder, a Tainan-based taxi driver who applied for his 25-character name on Feb. 26.\n",
    "The name translates to “Chen loves Taiwan, abalone, tuna, salmon, snow crab, sea urchin, scallop, lobster and beef, Mayfull, Palais de Chine, Regent, Hilton, Caesar Park, Hotel Royal.”\n",
    "While people are free to choose their own name, the Ministry of the Interior urged caution, as it can only be legally changed three times.\n",
    "A man surnamed Hsu (許) learned this the hard way after his mother informed him that she had already changed his name twice when he was a child.\n",
    "Screenshots of Hsu’s Line messages went viral on the Professional Technology Temple bulletin board, eliciting sympathy and skepticism among those who said that the office would have informed him that it was his last change.\n",
    "“Each person has three chances to change their name,” the ministry wrote on Facebook. “Everyone, please consider your name carefully.”\n",
    "'''}\n",
    "news4 = {\n",
    "    \"title\": \"‘Megaship’ in Suez Canal nearly free\",\n",
    "    \"source\": \"source: https://www.taipeitimes.com/News/front/archives/2021/03/25/2003754453\",\n",
    "    \"content\": '''\n",
    "Progress made moving a container ship blocking the Suez Canal should allow some traffic to resume today, while Evergreen Marine Corp (長榮海運) said that it leased the vessel, but would refuse to pay if it remained stuck.\n",
    "The MV Ever Given — a so-called “megaship” at 220,000 tonnes and 400m long — which ran aground in the southern part of the canal in Egypt, had been partially moved and is alongside the bank, said Ahmed Mekawy, deputy manager of the Suez Canal for GAC Group, a provider of port-agent services.\n",
    "The vessel was soon expected to be refloated, Mekawy said, adding that the Suez Canal Authority would then work on resuming transit for all waiting ships.\n",
    "The canal authority had yet to comment on whether the vessel had been moved.\n",
    "Evergreen, which chartered Ever Given from Luster Maritime SA, was notified by the ship owner that the vessel deviated from its course due to suspected sudden strong wind and ran aground 6 nautical miles (11km) south of the estuary at 8am on Tuesday, it said in a statement yesterday.\n",
    "Evergreen urged the ship owner to report the cause of the incident and set up a plan with the authorities to get the vessel out of trouble as soon as possible, it said.\n",
    "Evergreen said that it rented the vessel under a time charter arrangement to add cargo capacity to its operations from East Asia to Europe, while the crew was appointed by the ship owner.\n",
    "“We rent the vessel and decide which seaports it will go to for our sea cargo business. If the Ever Given is still aground and cannot operate normally, we will not pay the rent,” a company official told the Taipei Times by telephone.\n",
    "Whether Evergreen would seek compensation from the ship owner would depend on the cause of the incident, and it would make the decision after an investigation is completed, it added.\n",
    "Luster Maritime, which is headquartered in Panama and a unit of Japan’s Shoei Kisen Kaisha Ltd, provides sea freight transportation services.\n",
    "The incident left dozens of ships gridlocked as they attempted to transit between the Red Sea and the Mediterranean.\n",
    "Efforts to free the ship had so far proceeded faster than initial warnings that traffic could be choked off for days.\n",
    "The 193km-long Suez Canal is among the most trafficked waterways in the world, used by tankers shipping crude from the Middle East to Europe and North America.\n",
    "About 12 percent of global trade and 8 percent of liquefied natural gas pass through the canal, as do about 1 million barrels of oil per day.\n",
    "The Ever Given was grounded early on Tuesday amid poor visibility caused by a dust storm and wind speeds that reached 40 knots, resulting in a “loss of the ability to steer the ship,” the canal authority said.\n",
    "About 42 vessels either in the northbound convoy or arriving to transit the canal in that direction were waiting for the Ever Given to be refloated, Leth Agencies, one of the top providers of Suez Canal crossing services, said in a notice to clients.\n",
    "The company said that it was sending a dredger to help free the ship.\n",
    "About 64 vessels traveling southbound were also affected.\n",
    "GAC said that 15 affected ships were waiting at anchorage.\n",
    "'''\n",
    "}\n",
    "news5 = {\n",
    "    \"title\": \"Ko Wen-je says Taipei’s street names need change\",\n",
    "    \"source\": \"https://www.taipeitimes.com/News/taiwan/archives/2021/04/21/2003756086\",\n",
    "    \"content\": '''\n",
    "Taipei’s street names should reflect a “Taiwanese spirit,” Taipei Mayor Ko Wen-je (柯文哲) said in an online video released yesterday, in which he asked why many of them are named after locations in China.\n",
    "In a three-minute video uploaded to a Facebook page called “Taiwanese Uncle Ko Wen-je” (台灣阿北柯文哲), the mayor suggested changing the names of Taipei streets.\n",
    "The page’s banner was a photograph of Ko on Jade Mountain’s (玉山) main peak.\n",
    "The page was closed at about noon, about four hours after it was made public.\n",
    "Ko said that street names in the capital named “Ningxia,” “Tibet,” “Beiping” — an old name for Beijing — “Tianjin” and “Changan” make walking them a disconcerting experience, as they are names of provinces or cities in China.\n",
    "“For Taiwanese who grew up on this piece of land, it is really confusing that the street names refer to Chinese cities,” he said.\n",
    "“They are a trace of history, not names from Taiwan,” he said.\n",
    "“I think it is strange that the headquarters of a political party that claims to be the ‘most local’ is on Beiping E Road,” he said, an apparent reference to the Democratic Progressive Party (DPP).\n",
    "“You must agree that it is strange,” he said.\n",
    "Changing street names is important, so perhaps a “street name rectification” platform would allow people from across political lines to discuss the issue and propose names that represent the “Taiwanese spirit,” he said.\n",
    "Then Taipei residents would have street names that represent them better, Ko said.\n",
    "When asked about the page, Ko said that “it was established by a friend.”\n",
    "Taipei City Government deputy spokesperson Wei Yu-jen (魏佑任) said that the page was not set up by the city government, nor by the Taiwan People’s Party, of which Ko is the chairman.\n",
    "It might have been established by a supporter, Wei said, adding that he did not know when the video was filmed.\n",
    "'''\n",
    "}\n",
    "news6 = {\n",
    "    \"title\": \"COVID-19: Number of infected pilots rises to nine\",\n",
    "    \"source\": \"https://www.taipeitimes.com/News/front/archives/2021/04/27/2003756412\",\n",
    "    \"content\": '''\n",
    "The total number of China Airlines (CAL, 華航) cargo pilots diagnosed with COVID-19 rose to nine yesterday, after the Central Epidemic Command Center (CECC) said two more pilots were confirmed with the virus.\n",
    "The center has not identified a link among the nine cases or a clear sign of a transmission chain among the airline’s pilots, given the tests results so far and that the nine pilots are from four different fleets, said Minister of Health and Welfare Chen Shih-chung (陳時中), who heads the center.\n",
    "The sources of infection might be better understood after analyzing the polymerase chain reaction (PCR) and antibody test results of all CAL pilots, Chen said.\n",
    "The center has asked the airline to provide surveillance footage from the overseas hotels where the infected pilots stayed during their layovers.\n",
    "Special police and healthcare experts from centralized quarantine centers would also be dispatched to the airline’s quarantine facility in Taiwan to help determine whether disease prevention measures at the facility are adequate, he said.\n",
    "Before yesterday, the center had reported seven confirmed cases of COVID-19 in CAL cargo pilots in as many days, including an Indonesian pilot who tested positive in Australia.\n",
    "The center had launched an expanded testing program to screen all 1,272 of CAL’s pilots.\n",
    "One of the two new cases — No. 1,102 — is a Taiwanese man who flew to the US on April 6 and returned on April 9, Chen said, adding that he tested negative on April 14 after completing quarantine in Taiwan.\n",
    "He flew on another trip to the US from Monday and Thursday last week.\n",
    "He developed a cough and a fever on Saturday, and tested positive on Sunday with a high viral load, indicating a recent infection, he said.\n",
    "Chen said the other new case — No. 1,105 — is a Taiwanese man who flew to the US on April 8 and returned on April 10.\n",
    "He tested negative upon completing quarantine in Taiwan on April 15, Chen said.\n",
    "He was tested again on Sunday in the expanded testing program and the result came back positive, he said.\n",
    "The pilot said he lost his appetite on Monday last week, he added.\n",
    "The sources of infection are being investigated, Chen said.\n",
    "Although case No. 1,102 attended a public event in Taiwan on April 16, the center believes that the risk of him infecting others at the event is low, because he had tested negative on April 14, Chen said.\n",
    "People with COVID-19 usually become contagious three days before symptoms begin, and as the pilot developed symptoms on Saturday, he is more likely to have been in the US or under quarantine in Taiwan when he was contagious, Chen said.\n",
    "The CECC also reported two new imported cases — a Burmese man and a Chinese man who are crew members on the same ship.\n",
    "Separately yesterday, reporters asked whether inbound travelers who have received the full dosage of a COVID-19 vaccine in another country would be exempt from quarantine upon arrival.\n",
    "Chen said a trial program, which is in its final approval process, would soon be launched.\n",
    "The center might allow a limited number of people who have been vaccinated for at least a month to apply for a reduced quarantine period of seven days, starting in the middle of next month, he said.\n",
    "The vaccines would need to be complemented with a negative PCR test result obtained before arriving in Taiwan, an antibody test taken upon arrival and another negative PCR test result on the last day of quarantine, he said.\n",
    "The center on April 14 announced that crew members from Taiwanese airlines who have been vaccinated for at least two weeks would be exempt from mandatory home quarantine after returning to the nation, and would only have to perform seven days of self-health management after a long-haul flight.'''\n",
    "}\n",
    "\n",
    "news7 = {\n",
    "    \"title\": \"One pilot dead, another missing after jets collide\",\n",
    "    \"source\": \"https://www.taipeitimes.com/News/front/archives/2021/03/23/2003754316\",\n",
    "    \"content\": '''\n",
    "The nation yesterday grounded its entire fleet of F-5 jets after two disappeared over the ocean in the afternoon.\n",
    "Citing information from the Ministry of National Defense, the National Rescue Command Center said that four F-5Es took off from Taitung Airbase at 2:30pm for a routine training mission before two of the jets disappeared from radar screens 1.4 nautical miles (2.6km) east of Pingtung’s Mudan Township (牡丹), apparently after a mid-air collision, at about 3:06pm.\n",
    "As of press time last night, rescuers were searching for captain Pan Ying-chun (潘穎諄), one of the pilots.\n",
    "Lieutenant Lo Shang-hua (羅尚樺), the pilot of the other plane, was found unconscious at sea at about 4pm and rushed to hospital. He later died of his injuries.\n",
    "The nation manufactured 242 single-seat F-5s and 66 two-seater F-5s under license from Northrop Corp between 1973 and the mid-1980s.\n",
    "An F-5 jet crashed and its pilot was killed during a training exercise east of Taiwan in October last year.\n",
    "The pilot, who had ejected and was rescued, later died despite hours of emergency treatment.\n",
    "In November, an F-16 was lost off the east coast minutes after taking off from a base in Hualien.\n",
    "In October last year, sources said that the military plans to retire its F-5 jets in 2026, when the US completes delivery of 66 F-16Vs.\n",
    "'''\n",
    "}\n",
    "\n",
    "news8 = {\n",
    "    \"title\": \"China debuts train prototype that can hit speeds of 620 kilometers per hour\",\n",
    "    \"source\": \"https://edition.cnn.com/travel/article/china-high-speed-maglev-train-intl-hnk/index.html\",\n",
    "    \"content\": '''\n",
    "(CNN) — China has revealed a prototype for a new high-speed Maglev train that is capable of reaching speeds of 620 kilometers (385 miles) per hour.\n",
    "The train runs on high-temperature superconducting (HTS) power that makes it look as if the train is floating along the magnetized tracks.\n",
    "The sleek 21-meter-long (69 feet) prototype was unveiled to media in the city of Chengdu, Sichuan Province, on January 13. In addition, university researchers constructed 165 meters (541 feet) of track to demonstrate how the train would look and feel in transit, according to state-run Xinhua News.\n",
    "Professor He Chuan (vice president of Southwest Jiaotong University, which worked on the prototype) told reporters that the train could be \"operational\" within 3-10 years.\n",
    "He added: \"Sichuan has rich rare earth resources, which is very beneficial to our construction of permanent magnet tracks, thus promoting the faster development of experiments.\"\n",
    "China is home to the world's largest high-speed rail network, which stretches over 37,000 kilometers, and the fastest commercially operating train -- the Shanghai maglev.\n",
    "The country's first high-speed Maglev train, it began operating in 2003. Running at a top speed of 431 kph, the train links Shanghai Pudong Airport and Longyang Road in the eastern side of Shanghai.\n",
    "China has been eager to make further infrastructure improvements ahead of the 2022 Winter Olympics, which will take place in Beijing.\n",
    "This time last year, China unveiled a new 174-kilometer high-speed railway line connecting Beijing with 2022 Winter Olympics host city Zhangjiakou, cutting the travel time between the two from three hours to 47 minutes.\n",
    "Earlier this month, the country debuted a bullet train specifically designed to withstand freezing temperatures. The CR400AF-G train can travel up to 350 kilometers per hour in weather as cold as -40 degrees Celsius (-40 degrees Fahrenheit).\n",
    "It will run on routes between Beijing, Shenyang and Harbin -- the latter of which is so cold that it hosts an annual snow and ice festival.\n",
    "'''\n",
    "}\n",
    "\n",
    "news9 = {\n",
    "    \"title\": \"Mars helicopter shares first aerial color photo and preps for Sunday flight\",\n",
    "    \"source\": \"https://edition.cnn.com/2021/04/23/world/mars-helicopter-color-image-third-flight-scn/index.html\",\n",
    "    \"content\": '''\n",
    "(CNN)So this is what the view looks like when flying on Mars.\n",
    "The Ingenuity helicopter captured its first color image from 17 feet (5.2 meters) above the Martian surface during its second flight on April 22. And now, it's preparing for a third flight, scheduled for Sunday.\n",
    "Ingenuity autonomously flew for almost 52 seconds during its second flight, climbing 16 feet (4.9 meters) up through the Martian atmosphere. After a brief hover, it tilted at a 5-degree angle and moved sideways for 7 feet (2.1 meters).\n",
    "The helicopter hovered in place again to make three turns. This allowed Ingenuity's color camera to capture images taken looking in different directions, before the chopper touched back down in the center of the airfield. Ingenuity only collected black-and-white images with its navigation camera during the first flight on April 19.\n",
    "The color image, shared on Friday by NASA, is the first taken by an aerial vehicle while aloft on Mars. On either side of the image, landings pads from two of the helicopter's four legs can be seen.\n",
    "The helicopter's shadow on the surface of Mars can be seen at the bottom of the image.\n",
    "The view from the helicopter's perspective reveals tracks made by the Perseverance rover when it initially had deposited the helicopter in the middle of its 33-foot-by-33-foot (10-meter-by-10-meter) airfield, now known as Wright Brothers Field.\n",
    "There is also a glimpse of the Martian horizon in the upper-right and left corners of the photo.\n",
    "The helicopter team believes this image helps demonstrate the unique aerial scouting ability of Ingenuity and other rotorcraft that could be modeled after it in the future.\n",
    "'''\n",
    "}\n",
    "\n",
    "news10 = {\n",
    "    \"title\": \"SpaceX capsule with four astronauts aboard docks with International Space Station\",\n",
    "    \"source\": \"https://edition.cnn.com/2021/04/24/tech/spacex-nasa-astronaut-crew-2-docking-scn/index.html\",\n",
    "    \"content\": '''\n",
    "Austin, Texas (CNN Business)A SpaceX Crew Dragon spacecraft — carrying four astronauts from three countries — docked with the International Space Station early Saturday morning ET, beginning the crew's six-month stay in space.\n",
    "This mission, dubbed Crew-2, marks the third-ever crewed flight for Elon Musk's company and the first to make use of a previously flown, privately-owned rocket booster and spacecraft.\n",
    "The astronauts took off from Kennedy Space Center in Florida Friday morning and spent nearly 24 hours soaring through orbit at more than 17,000 miles per hour, as their Crew Dragon spacecraft maneuvered toward the ISS, which orbits about 250 miles above Earth.\n",
    "On Saturday morning, the capsule slowly aligned itself and moved in to dock directly with one of the space station's ports.\n",
    "The crew consists of NASA astronauts Shane Kimbrough and Megan McArthur, Thomas Pesquet of the European Space Agency, and Akihiko Hoshide with Japan's JAXA space agency.\n",
    "A prime focus of the astronauts' mission will be research with \"tissue chips,\" or \"small models of human organs containing multiple cell types that behave much the same as they do in the body\" and that NASA hopes will advance the development of drugs and vaccines, according to the space agency. That work will build on years of studying biological and other scientific phenomena aboard the ISS, where the microgravity environment can give scientists a better fundamental understanding of how something works.\n",
    "Kimbrough, McArthur, Pesquet, and Hoshide joined seven astronauts already on board the station, four of whom arrived on a different SpaceX Crew Dragon capsule in November. That brings the space station's current total of personnel to 11 — one of the largest crews the ISS has ever hosted. But that number will quickly drop back down to seven when four of the astronauts who'd been on board hitch a ride home from the station on April 28.\n",
    "NASA has spent more than a decade working to boost staffing aboard the 21-year-old space station after the retirement of its Space Shuttle program in 2011 left Russia's Soyuz spacecraft as the only option for getting astronauts to and from the ISS. The United States had been paying Russia as much as $90 million per seat for those trips.\n",
    "For years, SpaceX worked under a $2.6 billion fixed-price contract to develop its Crew Dragon spacecraft under NASA's Commercial Crew program, which for the first time in the space agency's history handed over the task of building and testing a crew-worthy spacecraft to the private sector.\n",
    "(Boeing (BA) is working under a similar contract to develop its own capsule for the program. That capsule, called Starliner, is still in the testing phase.)\n",
    "The mission is a hallmark in SpaceX's efforts to reuse spacefaring hardware in order to drive down the cost of spaceflight. Both the Crew Dragon capsule, named \"Endeavour,\" and the Falcon 9 rocket that lofted it into orbit have flown in space before.\n",
    "Though the company has re-flown boosters and spacecraft dozens of times on satellite and cargo launches over the past several years, this marks the first time the company has reused hardware for a crewed mission.\n",
    "'''\n",
    "}\n",
    "\n",
    "news_list = [news1, news2, news3, news4, news5, news6, news7, news8, news9, news10]"
   ]
  },
  {
   "cell_type": "markdown",
   "metadata": {
    "heading_collapsed": true
   },
   "source": [
    "### CODE: cal overlap_score  \n",
    "require: title_text & keyword_dict"
   ]
  },
  {
   "cell_type": "code",
   "execution_count": 9,
   "metadata": {
    "hidden": true
   },
   "outputs": [],
   "source": [
    "def overlap_score(title_text, keyword_dict, topk=20, show_info=False, show_keywords=False, keystr=False):\n",
    "    keyword_list = []\n",
    "    key_str = \"\"\n",
    "    for idx, kw in enumerate(keyword_dict):\n",
    "        keyword_list.append(kw)\n",
    "        if idx > topk:\n",
    "            break\n",
    "#    print(\"===== overlap keywords: =====\")\n",
    "    overlap_list = []\n",
    "    title = preprocess(title_text)\n",
    "    \n",
    "    if keystr:\n",
    "        key_str = \" \".join(keyword_list)\n",
    "        for k in title:\n",
    "            if k in key_str:\n",
    "                overlap_list.append(k)\n",
    "    else:\n",
    "        for k in title:\n",
    "            if k in keyword_list:\n",
    "                overlap_list.append(k)\n",
    "    #            print(k, keyword_dict[k])\n",
    "    score = len(overlap_list) / len(title)\n",
    "    if  show_info:\n",
    "        print(\"=============================\")\n",
    "        print(\"title:\", title)\n",
    "        print(\"overlap:\", overlap_list)\n",
    "        print(\"final_score: {:.2f}\".format( score ))\n",
    "    if show_keywords:\n",
    "        print(\"=============================\")\n",
    "        print(\"==== list topk keywords =====\")\n",
    "        for idx, k in enumerate(keyword_dict):\n",
    "            print(k , keyword_dict[k])\n",
    "            if idx > topk: break\n",
    "    return score\n",
    "\n",
    "def preprocess(text):\n",
    "    assert type(text) is str\n",
    "    stoppath = \"./RAKE/SmartStoplist.txt\"\n",
    "    with open (stoppath, 'r') as f:\n",
    "         stopw = f.read().split(\"\\n\")\n",
    "            \n",
    "    doc = nlp(text.replace(\"\\n\", \" \"))\n",
    "    text_list = []\n",
    "    for tok in doc:\n",
    "        if tok.pos_ in [\"PRON\", \"PART\", \"SPACE\", \"DET\", \"PUNCT\"]:\n",
    "            continue\n",
    "        else:\n",
    "            if tok.text not in stopw:\n",
    "                text_list.append(tok.lemma_.lower())\n",
    "    return text_list"
   ]
  },
  {
   "cell_type": "code",
   "execution_count": 10,
   "metadata": {
    "hidden": true
   },
   "outputs": [],
   "source": [
    "def go_through_data(news_list, score_func, show_info=False, show_keywords=False, keystr=False):\n",
    "    content_list = []\n",
    "    for news in news_list:\n",
    "        content_list.append(news[\"content\"])\n",
    "\n",
    "    title_list = []\n",
    "    for news in news_list:\n",
    "        title_list.append(news[\"title\"])\n",
    "\n",
    "    keyword_dict_list = score_func(content_list, keystr)\n",
    "\n",
    "    ### TFIDF\n",
    "    score_list = []\n",
    "    total_score = 0\n",
    "    for title, keyword_dict in zip(title_list, keyword_dict_list):\n",
    "        score = overlap_score(title, keyword_dict, show_info=show_info, show_keywords=show_keywords, keystr=keystr)  #topk=20, show_info=False, show_keywords=False):\n",
    "        score_list.append(score)\n",
    "        total_score += score\n",
    "    print(\"avg_score:\", total_score / len(title_list))\n",
    "    return score_list"
   ]
  },
  {
   "cell_type": "markdown",
   "metadata": {},
   "source": [
    "### my_dep overlap_score"
   ]
  },
  {
   "cell_type": "markdown",
   "metadata": {},
   "source": [
    "#### CODE"
   ]
  },
  {
   "cell_type": "code",
   "execution_count": 11,
   "metadata": {},
   "outputs": [],
   "source": [
    "def mydep_score(text_list, all_dep=False, keystr=False): # keystr not used\n",
    "    mydep_list = []\n",
    "    for text in text_list:\n",
    "        keyword_dict = mydep_dict(text, all_dep=False)       \n",
    "        mydep_list.append( keyword_dict )\n",
    "    return mydep_list\n",
    "\n",
    "def mydep_dict(text, all_dep=False, keystr=False):\n",
    "    node_dict = mydep_node_dict(text, all_dep=all_dep)\n",
    "    keyword_dict = dict()\n",
    "    for node in node_dict:\n",
    "        kw = node.split(\"=\")[0].lower()\n",
    "        keyword_dict[kw] = node_dict[node]    \n",
    "    return sort_dict_by_value(keyword_dict)"
   ]
  },
  {
   "cell_type": "markdown",
   "metadata": {},
   "source": [
    "#### print result"
   ]
  },
  {
   "cell_type": "code",
   "execution_count": 12,
   "metadata": {},
   "outputs": [
    {
     "name": "stdout",
     "output_type": "stream",
     "text": [
      "avg_score: 0.31194444444444447\n"
     ]
    },
    {
     "data": {
      "text/plain": [
       "[0.2,\n",
       " 0.2,\n",
       " 0.3333333333333333,\n",
       " 0.0,\n",
       " 0.625,\n",
       " 0.4,\n",
       " 0.3333333333333333,\n",
       " 0.5555555555555556,\n",
       " 0.2222222222222222,\n",
       " 0.25]"
      ]
     },
     "execution_count": 12,
     "metadata": {},
     "output_type": "execute_result"
    }
   ],
   "source": [
    "# Old_version\n",
    "# title word finding overlap with keyword (compound word not find)\n",
    "# ex: Title=\"Robin\", keyword=\"Robin Kuo\" (Not find)\n",
    "mydep_score_list = go_through_data(news_list, mydep_score)\n",
    "mydep_score_list"
   ]
  },
  {
   "cell_type": "code",
   "execution_count": 13,
   "metadata": {},
   "outputs": [
    {
     "name": "stdout",
     "output_type": "stream",
     "text": [
      "avg_score: 0.5155555555555555\n"
     ]
    },
    {
     "data": {
      "text/plain": [
       "[0.6,\n",
       " 0.2,\n",
       " 0.6666666666666666,\n",
       " 0.4,\n",
       " 0.875,\n",
       " 0.4,\n",
       " 0.5,\n",
       " 0.5555555555555556,\n",
       " 0.3333333333333333,\n",
       " 0.625]"
      ]
     },
     "execution_count": 13,
     "metadata": {},
     "output_type": "execute_result"
    }
   ],
   "source": [
    "# new_version\n",
    "# used keyword_str to find\n",
    "# ex: Title=\"Robin\", keyword=\"Robin Kuo\" (Find)\n",
    "keystr_mydep_score_list = go_through_data(news_list, mydep_score, keystr=True)\n",
    "keystr_mydep_score_list"
   ]
  },
  {
   "cell_type": "code",
   "execution_count": 14,
   "metadata": {},
   "outputs": [
    {
     "name": "stdout",
     "output_type": "stream",
     "text": [
      "avg_score: 0.30083333333333334\n"
     ]
    },
    {
     "data": {
      "text/plain": [
       "[0.2,\n",
       " 0.2,\n",
       " 0.3333333333333333,\n",
       " 0.2,\n",
       " 0.5,\n",
       " 0.2,\n",
       " 0.3333333333333333,\n",
       " 0.5555555555555556,\n",
       " 0.1111111111111111,\n",
       " 0.375]"
      ]
     },
     "execution_count": 14,
     "metadata": {},
     "output_type": "execute_result"
    }
   ],
   "source": [
    "# old_version\n",
    "### test if all_dep\n",
    "def mydep_score(text_list, all_dep=True, keystr=False): # keystr not used\n",
    "    mydep_list = []\n",
    "    for text in text_list:\n",
    "        keyword_dict = mydep_dict(text, all_dep=True)       \n",
    "        mydep_list.append( keyword_dict )\n",
    "    return mydep_list\n",
    "mydep_score_alldep_list = go_through_data(news_list, mydep_score)\n",
    "mydep_score_alldep_list"
   ]
  },
  {
   "cell_type": "code",
   "execution_count": 15,
   "metadata": {},
   "outputs": [
    {
     "name": "stdout",
     "output_type": "stream",
     "text": [
      "avg_score: 0.31333333333333335\n"
     ]
    },
    {
     "data": {
      "text/plain": [
       "[0.2,\n",
       " 0.2,\n",
       " 0.3333333333333333,\n",
       " 0.2,\n",
       " 0.5,\n",
       " 0.2,\n",
       " 0.3333333333333333,\n",
       " 0.5555555555555556,\n",
       " 0.1111111111111111,\n",
       " 0.5]"
      ]
     },
     "execution_count": 15,
     "metadata": {},
     "output_type": "execute_result"
    }
   ],
   "source": [
    "# new_version with all_dep\n",
    "keystr_mydep_score_alldep_list = go_through_data(news_list, mydep_score, keystr=True)\n",
    "keystr_mydep_score_alldep_list"
   ]
  },
  {
   "cell_type": "markdown",
   "metadata": {},
   "source": [
    "### TFIDF overlap_score"
   ]
  },
  {
   "cell_type": "markdown",
   "metadata": {},
   "source": [
    "#### CODE: tfidf"
   ]
  },
  {
   "cell_type": "code",
   "execution_count": 16,
   "metadata": {},
   "outputs": [],
   "source": [
    "def computeTF(wordDict, bagOfWords):\n",
    "    tfDict = {}\n",
    "    bagOfWordsCount = len(bagOfWords)\n",
    "    for word, count in wordDict.items():\n",
    "        tfDict[word] = count / float(bagOfWordsCount)\n",
    "    return tfDict\n",
    "\n",
    "def computeIDF(documents):\n",
    "    import math\n",
    "    N = len(documents)\n",
    "    \n",
    "    idfDict = dict.fromkeys(documents[0].keys(), 0)\n",
    "    for document in documents:\n",
    "        for word, val in document.items():\n",
    "            if val > 0:\n",
    "                idfDict[word] += 1\n",
    "    \n",
    "    for word, val in idfDict.items():\n",
    "        idfDict[word] = math.log(N / float(val))\n",
    "    return idfDict\n",
    "\n",
    "def computeTFIDF(tfBagOfWords, idfs):\n",
    "    tfidf = {}\n",
    "    for word, val in tfBagOfWords.items():\n",
    "        tfidf[word] = val * idfs[word]\n",
    "    return tfidf"
   ]
  },
  {
   "cell_type": "code",
   "execution_count": 17,
   "metadata": {},
   "outputs": [],
   "source": [
    "def tfidf_score(text_list, keystr=False): # keystr not used\n",
    "    clean_text_list = []\n",
    "    for text in text_list:\n",
    "        clean_text_list.append( text.replace(\"\\n\", \" \").lower() )\n",
    "\n",
    "    # find all unique words\n",
    "    w_set = set()\n",
    "    bow_list = []\n",
    "    for text in clean_text_list:\n",
    "        bow = text.split(' ')\n",
    "        bow_list.append(bow)\n",
    "        w_set = set( w_set.union(set(bow)) )\n",
    "\n",
    "    wcnt_list = []\n",
    "    for bow in bow_list:\n",
    "        wcnt = dict.fromkeys(w_set, 0)\n",
    "        for word in bow:\n",
    "            wcnt[word] += 1\n",
    "        wcnt_list.append(wcnt)\n",
    "\n",
    "    tf_list = []\n",
    "    for wcnt, bow in zip(wcnt_list, bow_list):\n",
    "        tf_list.append( computeTF(wcnt, bow) )\n",
    "\n",
    "    idfs = computeIDF(wcnt_list)\n",
    "\n",
    "    tfidf_list = []\n",
    "    for tf in tf_list:\n",
    "        tmp_tfidf_dict = computeTFIDF(tf, idfs)\n",
    "        tfidf_dict = sort_dict_by_value(tmp_tfidf_dict)\n",
    "        tfidf_list.append( tfidf_dict )\n",
    "    return tfidf_list\n",
    "\n",
    "def tfidf_dict(text_list, idx):\n",
    "    return tfidf_score(text_list)[idx]"
   ]
  },
  {
   "cell_type": "markdown",
   "metadata": {},
   "source": [
    "#### print result"
   ]
  },
  {
   "cell_type": "code",
   "execution_count": 18,
   "metadata": {},
   "outputs": [
    {
     "name": "stdout",
     "output_type": "stream",
     "text": [
      "avg_score: 0.4044444444444445\n"
     ]
    }
   ],
   "source": [
    "tfidf_score_list = go_through_data(news_list, tfidf_score)"
   ]
  },
  {
   "cell_type": "code",
   "execution_count": 19,
   "metadata": {
    "scrolled": true
   },
   "outputs": [
    {
     "name": "stdout",
     "output_type": "stream",
     "text": [
      "avg_score: 0.4813888888888889\n"
     ]
    }
   ],
   "source": [
    "keystr_tfidf_score_list = go_through_data(news_list, tfidf_score, keystr=True)"
   ]
  },
  {
   "cell_type": "markdown",
   "metadata": {},
   "source": [
    "### RAKE overlap score"
   ]
  },
  {
   "cell_type": "markdown",
   "metadata": {},
   "source": [
    "#### RAKE code"
   ]
  },
  {
   "cell_type": "code",
   "execution_count": 20,
   "metadata": {},
   "outputs": [
    {
     "name": "stdout",
     "output_type": "stream",
     "text": [
      "/Users/dragonfly/Desktop/keyword_dep/SmartStoplist.txt\n"
     ]
    }
   ],
   "source": [
    "from RAKE.rake import Rake\n",
    "stoppath = \"./RAKE/SmartStoplist.txt\"\n",
    "r = Rake(stoppath)\n",
    "\n",
    "def rake_score(text_list, keystr=False):\n",
    "    rake_list = []\n",
    "    for text in text_list:\n",
    "        rake_list.append( rake_dict(text, keystr) )\n",
    "    return rake_list\n",
    "\n",
    "def rake_dict(text, keystr=False):\n",
    "    keyword_dict = dict()\n",
    "    keyword_list = r.run(text)\n",
    "    for idx, kyw in enumerate(keyword_list):\n",
    "        if keystr:\n",
    "            keyword_dict[kyw[0]] = kyw[1]\n",
    "        else:\n",
    "            if len(kyw[0].split(\" \")) == 1:\n",
    "                keyword_dict[kyw[0]] = kyw[1]\n",
    "    return sort_dict_by_value(keyword_dict)"
   ]
  },
  {
   "cell_type": "markdown",
   "metadata": {},
   "source": [
    "#### print result"
   ]
  },
  {
   "cell_type": "code",
   "execution_count": 21,
   "metadata": {},
   "outputs": [
    {
     "name": "stdout",
     "output_type": "stream",
     "text": [
      "avg_score: 0.4272222222222222\n"
     ]
    },
    {
     "data": {
      "text/plain": [
       "[0.8,\n",
       " 0.4,\n",
       " 0.6666666666666666,\n",
       " 0.2,\n",
       " 0.25,\n",
       " 0.4,\n",
       " 0.16666666666666666,\n",
       " 0.4444444444444444,\n",
       " 0.4444444444444444,\n",
       " 0.5]"
      ]
     },
     "execution_count": 21,
     "metadata": {},
     "output_type": "execute_result"
    }
   ],
   "source": [
    "rake_score_list = go_through_data(news_list, rake_score)\n",
    "rake_score_list"
   ]
  },
  {
   "cell_type": "code",
   "execution_count": 22,
   "metadata": {},
   "outputs": [
    {
     "name": "stdout",
     "output_type": "stream",
     "text": [
      "avg_score: 0.45583333333333337\n"
     ]
    }
   ],
   "source": [
    "keystr_rake_score_list = go_through_data(news_list, rake_score, keystr=True)"
   ]
  },
  {
   "cell_type": "code",
   "execution_count": 23,
   "metadata": {},
   "outputs": [
    {
     "name": "stdout",
     "output_type": "stream",
     "text": [
      "avg_score: 0.5069444444444444\n"
     ]
    }
   ],
   "source": [
    "# [note]: rake is better when the very long compound words are remove (also with keystr)\n",
    "def rake_dict(text, keystr=True):\n",
    "    keyword_dict = dict()\n",
    "    keyword_list = r.run(text)\n",
    "    for idx, kyw in enumerate(keyword_list):\n",
    "        if len(kyw[0].split(\" \")) == 1:\n",
    "            keyword_dict[kyw[0]] = kyw[1]\n",
    "    return sort_dict_by_value(keyword_dict)\n",
    "best_rake_score_list = go_through_data(news_list, rake_score, keystr=True)"
   ]
  },
  {
   "cell_type": "markdown",
   "metadata": {},
   "source": [
    "### TextRank"
   ]
  },
  {
   "cell_type": "markdown",
   "metadata": {
    "heading_collapsed": true
   },
   "source": [
    "#### code"
   ]
  },
  {
   "cell_type": "code",
   "execution_count": 24,
   "metadata": {
    "hidden": true
   },
   "outputs": [
    {
     "data": {
      "text/plain": [
       "{'’s': 1.8572187111254346,\n",
       " 'fiction': 1.6346888693167099,\n",
       " 'science': 1.607301998471506,\n",
       " 'filmmaking': 1.389380749266166,\n",
       " 'China': 1.3257256702858027,\n",
       " 'Earth': 1.2736282631334714,\n",
       " 'fans': 1.043190546196228}"
      ]
     },
     "execution_count": 24,
     "metadata": {},
     "output_type": "execute_result"
    }
   ],
   "source": [
    "# source = https://towardsdatascience.com/textrank-for-keyword-extraction-by-python-c0bae21bcec0\n",
    "from collections import OrderedDict\n",
    "import numpy as np\n",
    "import spacy\n",
    "from spacy.lang.en.stop_words import STOP_WORDS\n",
    "\n",
    "nlp = spacy.load('en_core_web_sm')\n",
    "\n",
    "class TextRank4Keyword():\n",
    "    \"\"\"Extract keywords from text\"\"\"\n",
    "    \n",
    "    def __init__(self):\n",
    "        self.d = 0.85 # damping coefficient, usually is .85\n",
    "        self.min_diff = 1e-5 # convergence threshold\n",
    "        self.steps = 10 # iteration steps\n",
    "        self.node_weight = None # save keywords and its weight\n",
    "\n",
    "    \n",
    "    def set_stopwords(self, stopwords):  \n",
    "        \"\"\"Set stop words\"\"\"\n",
    "        for word in STOP_WORDS.union(set(stopwords)):\n",
    "            lexeme = nlp.vocab[word]\n",
    "            lexeme.is_stop = True\n",
    "    \n",
    "    def sentence_segment(self, doc, candidate_pos, lower):\n",
    "        \"\"\"Store those words only in cadidate_pos\"\"\"\n",
    "        sentences = []\n",
    "        for sent in doc.sents:\n",
    "            selected_words = []\n",
    "            for token in sent:\n",
    "                # Store words only with cadidate POS tag\n",
    "                if token.pos_ in candidate_pos and token.is_stop is False:\n",
    "                    if lower is True:\n",
    "                        selected_words.append(token.text.lower())\n",
    "                    else:\n",
    "                        selected_words.append(token.text)\n",
    "            sentences.append(selected_words)\n",
    "        return sentences\n",
    "        \n",
    "    def get_vocab(self, sentences):\n",
    "        \"\"\"Get all tokens\"\"\"\n",
    "        vocab = OrderedDict()\n",
    "        i = 0\n",
    "        for sentence in sentences:\n",
    "            for word in sentence:\n",
    "                if word not in vocab:\n",
    "                    vocab[word] = i\n",
    "                    i += 1\n",
    "        return vocab\n",
    "    \n",
    "    def get_token_pairs(self, window_size, sentences):\n",
    "        \"\"\"Build token_pairs from windows in sentences\"\"\"\n",
    "        token_pairs = list()\n",
    "        for sentence in sentences:\n",
    "            for i, word in enumerate(sentence):\n",
    "                for j in range(i+1, i+window_size):\n",
    "                    if j >= len(sentence):\n",
    "                        break\n",
    "                    pair = (word, sentence[j])\n",
    "                    if pair not in token_pairs:\n",
    "                        token_pairs.append(pair)\n",
    "        return token_pairs\n",
    "        \n",
    "    def symmetrize(self, a):\n",
    "        return a + a.T - np.diag(a.diagonal())\n",
    "    \n",
    "    def get_matrix(self, vocab, token_pairs):\n",
    "        \"\"\"Get normalized matrix\"\"\"\n",
    "        # Build matrix\n",
    "        vocab_size = len(vocab)\n",
    "        g = np.zeros((vocab_size, vocab_size), dtype='float')\n",
    "        for word1, word2 in token_pairs:\n",
    "            i, j = vocab[word1], vocab[word2]\n",
    "            g[i][j] = 1\n",
    "            \n",
    "        # Get Symmeric matrix\n",
    "        g = self.symmetrize(g)\n",
    "        \n",
    "        # Normalize matrix by column\n",
    "        norm = np.sum(g, axis=0)\n",
    "        g_norm = np.divide(g, norm, where=norm!=0) # this is ignore the 0 element in norm\n",
    "        \n",
    "        return g_norm\n",
    "\n",
    "    \n",
    "    def get_keywords(self, number=10):\n",
    "        \"\"\"Print top number keywords\"\"\"\n",
    "        node_weight = OrderedDict(sorted(self.node_weight.items(), key=lambda t: t[1], reverse=True))\n",
    "        keyword_dict = dict()\n",
    "        for i, (key, value) in enumerate(node_weight.items()):\n",
    "            keyword_dict[key] = value\n",
    "            if i > number: break\n",
    "        return keyword_dict\n",
    "        \n",
    "    def analyze(self, text, \n",
    "                candidate_pos=['NOUN', 'PROPN'], \n",
    "                window_size=4, lower=False, stopwords=list()):\n",
    "        \"\"\"Main function to analyze text\"\"\"\n",
    "        \n",
    "        # Set stop words\n",
    "        self.set_stopwords(stopwords)\n",
    "        \n",
    "        # Pare text by spaCy\n",
    "        doc = nlp(text)\n",
    "        \n",
    "        # Filter sentences\n",
    "        sentences = self.sentence_segment(doc, candidate_pos, lower) # list of list of words\n",
    "        \n",
    "        # Build vocabulary\n",
    "        vocab = self.get_vocab(sentences)\n",
    "        \n",
    "        # Get token_pairs from windows\n",
    "        token_pairs = self.get_token_pairs(window_size, sentences)\n",
    "        \n",
    "        # Get normalized matrix\n",
    "        g = self.get_matrix(vocab, token_pairs)\n",
    "        \n",
    "        # Initionlization for weight(pagerank value)\n",
    "        pr = np.array([1] * len(vocab))\n",
    "        \n",
    "        # Iteration\n",
    "        previous_pr = 0\n",
    "        for epoch in range(self.steps):\n",
    "            pr = (1-self.d) + self.d * np.dot(g, pr)\n",
    "            if abs(previous_pr - sum(pr))  < self.min_diff:\n",
    "                break\n",
    "            else:\n",
    "                previous_pr = sum(pr)\n",
    "\n",
    "        # Get weight for each node\n",
    "        node_weight = dict()\n",
    "        for word, index in vocab.items():\n",
    "            node_weight[word] = pr[index]\n",
    "        \n",
    "        self.node_weight = node_weight\n",
    "        \n",
    "text = '''\n",
    "The Wandering Earth, described as China’s first big-budget science fiction thriller, quietly made it onto screens at AMC theaters in North America this weekend, and it shows a new side of Chinese filmmaking — one focused toward futuristic spectacles rather than China’s traditionally grand, massive historical epics. At the same time, The Wandering Earth feels like a throwback to a few familiar eras of American filmmaking. While the film’s cast, setting, and tone are all Chinese, longtime science fiction fans are going to see a lot on the screen that reminds them of other movies, for better or worse.\n",
    "'''\n",
    "topk = 5\n",
    "tr4w = TextRank4Keyword()\n",
    "tr4w.analyze(text, candidate_pos = ['NOUN', 'PROPN'], window_size=4, lower=False)\n",
    "tr4w.get_keywords(topk)"
   ]
  },
  {
   "cell_type": "code",
   "execution_count": 25,
   "metadata": {
    "hidden": true
   },
   "outputs": [],
   "source": [
    "def textrank_score(text_list, keystr=False): # keystr not used\n",
    "    textrank_list = []\n",
    "    for text in text_list:\n",
    "        keyword_dict = textrank_dict(text)\n",
    "        textrank_list.append( keyword_dict )\n",
    "    return textrank_list\n",
    "\n",
    "def textrank_dict(text):\n",
    "    tr4w = TextRank4Keyword()\n",
    "    tr4w.analyze(text, lower=True) #, candidate_pos = ['NOUN', 'PROPN'], window_size=4, lower=False)\n",
    "    return tr4w.get_keywords(1000)"
   ]
  },
  {
   "cell_type": "markdown",
   "metadata": {},
   "source": [
    "#### textrank Result"
   ]
  },
  {
   "cell_type": "code",
   "execution_count": 26,
   "metadata": {
    "scrolled": false
   },
   "outputs": [
    {
     "name": "stdout",
     "output_type": "stream",
     "text": [
      "avg_score: 0.475\n"
     ]
    },
    {
     "data": {
      "text/plain": [
       "[0.8,\n",
       " 0.4,\n",
       " 0.3333333333333333,\n",
       " 0.4,\n",
       " 0.75,\n",
       " 0.4,\n",
       " 0.16666666666666666,\n",
       " 0.5555555555555556,\n",
       " 0.4444444444444444,\n",
       " 0.5]"
      ]
     },
     "execution_count": 26,
     "metadata": {},
     "output_type": "execute_result"
    }
   ],
   "source": [
    "textrank_score_list = go_through_data(news_list, textrank_score)\n",
    "textrank_score_list"
   ]
  },
  {
   "cell_type": "code",
   "execution_count": 27,
   "metadata": {},
   "outputs": [
    {
     "name": "stdout",
     "output_type": "stream",
     "text": [
      "avg_score: 0.5277777777777779\n"
     ]
    },
    {
     "data": {
      "text/plain": [
       "[0.8,\n",
       " 0.4,\n",
       " 0.3333333333333333,\n",
       " 0.4,\n",
       " 0.875,\n",
       " 0.4,\n",
       " 0.3333333333333333,\n",
       " 0.6666666666666666,\n",
       " 0.4444444444444444,\n",
       " 0.625]"
      ]
     },
     "execution_count": 27,
     "metadata": {},
     "output_type": "execute_result"
    }
   ],
   "source": [
    "keystr_textrank_score_list = go_through_data(news_list, textrank_score, keystr=True)\n",
    "keystr_textrank_score_list"
   ]
  },
  {
   "cell_type": "markdown",
   "metadata": {},
   "source": [
    "### plt score_list"
   ]
  },
  {
   "cell_type": "markdown",
   "metadata": {},
   "source": [
    "#### line graph"
   ]
  },
  {
   "cell_type": "code",
   "execution_count": 28,
   "metadata": {
    "scrolled": false
   },
   "outputs": [
    {
     "data": {
      "image/png": "[encoded data removed]",
      "text/plain": [
       "<Figure size 720x432 with 1 Axes>"
      ]
     },
     "metadata": {
      "needs_background": "light"
     },
     "output_type": "display_data"
    }
   ],
   "source": [
    "import numpy as np\n",
    "import matplotlib.pyplot as plt\n",
    "\n",
    "plt.figure(figsize=(10,6))\n",
    "\n",
    "y = []\n",
    "for m, i, r, t in zip(mydep_score_list, tfidf_score_list,\n",
    "                      rake_score_list, textrank_score_list):\n",
    "    y.append([m,i,r,t])\n",
    "\n",
    "x = [i for i in range(len(mydep_score_list))]\n",
    "\n",
    "# 產生三組，每組 200 個隨機常態分布元素\n",
    "# x = [i for i in range(200)]\n",
    "# y = np.random.randn(200, 5).cumsum(0)\n",
    "\n",
    "plots = plt.plot(x, y)\n",
    "plt.legend(plots, ('mydep', 'tfidf', 'rake', 'textrank'), loc='best', framealpha=0.5, prop={'size': 'large', 'family': 'monospace'})\n",
    "plt.xlabel('article #')\n",
    "plt.ylabel('% overlap')\n",
    "\n",
    "plt.show()"
   ]
  },
  {
   "cell_type": "code",
   "execution_count": 29,
   "metadata": {},
   "outputs": [
    {
     "data": {
      "image/png": "[encoded data removed]",
      "text/plain": [
       "<Figure size 720x432 with 1 Axes>"
      ]
     },
     "metadata": {
      "needs_background": "light"
     },
     "output_type": "display_data"
    }
   ],
   "source": [
    "import numpy as np\n",
    "import matplotlib.pyplot as plt\n",
    "\n",
    "plt.figure(figsize=(10,6))\n",
    "\n",
    "y = []\n",
    "for m, i, r, t in zip(keystr_mydep_score_list, keystr_tfidf_score_list,\n",
    "                      keystr_rake_score_list, keystr_textrank_score_list):\n",
    "    y.append([m,i,r,t])\n",
    "\n",
    "x = [i for i in range(len(mydep_score_list))]\n",
    "\n",
    "# 產生三組，每組 200 個隨機常態分布元素\n",
    "# x = [i for i in range(200)]\n",
    "# y = np.random.randn(200, 5).cumsum(0)\n",
    "\n",
    "plots = plt.plot(x, y)\n",
    "plt.legend(plots, ('mydep', 'tfidf', 'rake', 'textrank'), loc='best', framealpha=0.5, prop={'size': 'large', 'family': 'monospace'})\n",
    "plt.xlabel('article #')\n",
    "plt.ylabel('% overlap')\n",
    "\n",
    "plt.show()"
   ]
  },
  {
   "cell_type": "markdown",
   "metadata": {},
   "source": [
    "#### bar graph"
   ]
  },
  {
   "cell_type": "code",
   "execution_count": 30,
   "metadata": {
    "scrolled": false
   },
   "outputs": [
    {
     "name": "stdout",
     "output_type": "stream",
     "text": [
      "mydep score: 0.31194444444444447\n",
      "tfidf score: 0.4044444444444445\n",
      "rake_score:  0.4272222222222222\n",
      "textrank_score: 0.475\n"
     ]
    },
    {
     "data": {
      "image/png": "[encoded data removed]",
      "text/plain": [
       "<Figure size 1080x720 with 1 Axes>"
      ]
     },
     "metadata": {
      "needs_background": "light"
     },
     "output_type": "display_data"
    }
   ],
   "source": [
    "import numpy as np\n",
    "import matplotlib.pyplot as plt\n",
    "x_label = [\"doc\"+str(i) for i in range(len(mydep_score_list))]\n",
    "\n",
    "def avg(input_list):\n",
    "    return sum(input_list) / len(input_list)\n",
    "\n",
    "print(\"mydep score:\", avg(mydep_score_list))\n",
    "print(\"tfidf score:\", avg(tfidf_score_list))\n",
    "print(\"rake_score: \", avg(rake_score_list))\n",
    "print(\"textrank_score:\", avg(textrank_score_list))\n",
    "\n",
    "x = np.arange(len(mydep_score_list))\n",
    "width = 0.15\n",
    "\n",
    "plt.figure(figsize=(15,10))\n",
    "plt.bar(x, mydep_score_list, width, color='r', label='mydep_score')\n",
    "plt.axhline( avg(mydep_score_list), color='r', linewidth=2)\n",
    "\n",
    "plt.bar(x + width, tfidf_score_list, width, color='g', label='tfidf_score')\n",
    "plt.axhline( avg(tfidf_score_list), color='g', linewidth=2)\n",
    "\n",
    "plt.bar(x + 2*width, rake_score_list, width, color='y', label='rake_score')\n",
    "plt.axhline( avg(rake_score_list), color='y', linewidth=2)\n",
    "\n",
    "plt.bar(x + 3*width, textrank_score_list, width, color='b', label='textrank_score')\n",
    "plt.axhline( avg(textrank_score_list), color='b', linewidth=2)\n",
    "\n",
    "plt.xticks(x + width / 2, x_label)\n",
    "plt.ylabel('overlap %')\n",
    "plt.title('title and keyword overlap')\n",
    "plt.legend(bbox_to_anchor=(1,1), loc='upper left')\n",
    "plt.show()"
   ]
  },
  {
   "cell_type": "code",
   "execution_count": 31,
   "metadata": {},
   "outputs": [
    {
     "name": "stdout",
     "output_type": "stream",
     "text": [
      "mydep score: 0.5155555555555555\n",
      "tfidf score: 0.4813888888888889\n",
      "rake_score:  0.45583333333333337\n",
      "textrank_score: 0.5277777777777779\n"
     ]
    },
    {
     "data": {
      "image/png": "[encoded data removed]",
      "text/plain": [
       "<Figure size 1080x720 with 1 Axes>"
      ]
     },
     "metadata": {
      "needs_background": "light"
     },
     "output_type": "display_data"
    }
   ],
   "source": [
    "import numpy as np\n",
    "import matplotlib.pyplot as plt\n",
    "x_label = [\"doc\"+str(i) for i in range(len(mydep_score_list))]\n",
    "\n",
    "def avg(input_list):\n",
    "    return sum(input_list) / len(input_list)\n",
    "\n",
    "print(\"mydep score:\", avg(keystr_mydep_score_list))\n",
    "print(\"tfidf score:\", avg(keystr_tfidf_score_list))\n",
    "print(\"rake_score: \", avg(keystr_rake_score_list))\n",
    "print(\"textrank_score:\", avg(keystr_textrank_score_list))\n",
    "\n",
    "x = np.arange(len(mydep_score_list))\n",
    "width = 0.15\n",
    "\n",
    "plt.figure(figsize=(15,10))\n",
    "plt.bar(x, keystr_mydep_score_list, width, color='r', label='mydep_score')\n",
    "plt.axhline( avg(keystr_mydep_score_list), color='r', linewidth=2)\n",
    "\n",
    "plt.bar(x + width, keystr_tfidf_score_list, width, color='g', label='tfidf_score')\n",
    "plt.axhline( avg(keystr_tfidf_score_list), color='g', linewidth=2)\n",
    "\n",
    "plt.bar(x + 2*width, keystr_rake_score_list, width, color='y', label='rake_score')\n",
    "plt.axhline( avg(keystr_rake_score_list), color='y', linewidth=2)\n",
    "\n",
    "plt.bar(x + 3*width, keystr_textrank_score_list, width, color='b', label='textrank_score')\n",
    "plt.axhline( avg(keystr_textrank_score_list), color='b', linewidth=2)\n",
    "\n",
    "plt.xticks(x + width / 2, x_label)\n",
    "plt.ylabel('overlap %')\n",
    "plt.title('title and keyword overlap')\n",
    "plt.legend(bbox_to_anchor=(1,1), loc='upper left')\n",
    "plt.show()"
   ]
  },
  {
   "cell_type": "code",
   "execution_count": null,
   "metadata": {},
   "outputs": [],
   "source": []
  },
  {
   "cell_type": "markdown",
   "metadata": {
    "heading_collapsed": true
   },
   "source": [
    "### Note"
   ]
  },
  {
   "cell_type": "markdown",
   "metadata": {
    "heading_collapsed": true,
    "hidden": true
   },
   "source": [
    "#### graph note"
   ]
  },
  {
   "cell_type": "code",
   "execution_count": null,
   "metadata": {
    "hidden": true,
    "scrolled": true
   },
   "outputs": [],
   "source": [
    "import networkx as nx \n",
    "import matplotlib.pyplot as plt\n",
    "\n",
    "G = nx.DiGraph() \n",
    "#nodes_list = [(1,1),(2,2),(3,2)]\n",
    "nodes_list = [('2=end', '1=The'), ('6=command', '4=the'),('2=end', '6=command'),('2=end', '7=.'),('6=command', '3=of'),('6=command', '5=CPU')]\n",
    "G.add_edges_from(nodes_list)\n",
    "  \n",
    "plt.figure(figsize =(9, 9)) \n",
    "nx.draw_networkx(G, with_label = True, node_color ='yellow') \n",
    "  \n",
    "# getting different graph attributes \n",
    "print(\"Total number of nodes: \", int(G.number_of_nodes())) \n",
    "print(\"Total number of edges: \", int(G.number_of_edges())) \n",
    "print(\"List of all nodes: \", list(G.nodes())) \n",
    "print(\"List of all edges: \", list(G.edges())) \n",
    "print(\"In-degree for all nodes: \", dict(G.in_degree())) \n",
    "print(\"Out degree for all nodes: \", dict(G.out_degree)) \n",
    "  \n",
    "print(\"Total number of self-loops: \", int(G.number_of_selfloops())) \n",
    "# print(\"List of all nodes with self-loops: \", \n",
    "#              list(G.nodes_with_selfloops())) \n",
    "  \n",
    "# print(\"List of all nodes we can go to in a single step from node 2: \", \n",
    "#                                                 list(G.successors(2))) \n",
    "  \n",
    "# print(\"List of all nodes from which we can go to node 2 in a single step: \", \n",
    "#                                                     list(G.predecessors(2))) "
   ]
  },
  {
   "cell_type": "markdown",
   "metadata": {
    "heading_collapsed": true,
    "hidden": true
   },
   "source": [
    "#### TFIDF Note"
   ]
  },
  {
   "cell_type": "code",
   "execution_count": null,
   "metadata": {
    "hidden": true
   },
   "outputs": [],
   "source": [
    "from sklearn.feature_extraction.text import TfidfVectorizer\n",
    "\n",
    "documentA = 'the man went out for a walk'\n",
    "documentB = 'the children sat around the fire'\n",
    "\n",
    "bagOfWordsA = documentA.split(' ')\n",
    "bagOfWordsB = documentB.split(' ')\n",
    "uniqueWords = set(bagOfWordsA).union(set(bagOfWordsB))\n",
    "\n",
    "numOfWordsA = dict.fromkeys(uniqueWords, 0)\n",
    "for word in bagOfWordsA:\n",
    "    numOfWordsA[word] += 1\n",
    "numOfWordsB = dict.fromkeys(uniqueWords, 0)\n",
    "for word in bagOfWordsB:\n",
    "    numOfWordsB[word] += 1\n",
    "\n",
    "\n",
    "# stoppath = \"./RAKE/SmartStoplist.txt\"\n",
    "# with open (stoppath, 'r') as f:\n",
    "#     stopw = f.read().split(\"\\n\")\n",
    "# # preprocess title (lower, lemma, stopword)\n",
    "# title_list = [str(title_word.lemma_).lower() for title_word in nlp(news[\"title\"]) if str(title_word) not in stopw]\n",
    "def computeTF(wordDict, bagOfWords):\n",
    "    tfDict = {}\n",
    "    bagOfWordsCount = len(bagOfWords)\n",
    "    for word, count in wordDict.items():\n",
    "        tfDict[word] = count / float(bagOfWordsCount)\n",
    "    return tfDict\n",
    "\n",
    "tfA = computeTF(numOfWordsA, bagOfWordsA)\n",
    "tfB = computeTF(numOfWordsB, bagOfWordsB)\n",
    "\n",
    "def computeIDF(documents):\n",
    "    import math\n",
    "    N = len(documents)\n",
    "    \n",
    "    idfDict = dict.fromkeys(documents[0].keys(), 0)\n",
    "    for document in documents:\n",
    "        for word, val in document.items():\n",
    "            if val > 0:\n",
    "                idfDict[word] += 1\n",
    "    \n",
    "    for word, val in idfDict.items():\n",
    "        idfDict[word] = math.log(N / float(val))\n",
    "    return idfDict\n",
    "\n",
    "idfs = computeIDF([numOfWordsA, numOfWordsB])\n",
    "\n",
    "def computeTFIDF(tfBagOfWords, idfs):\n",
    "    tfidf = {}\n",
    "    for word, val in tfBagOfWords.items():\n",
    "        tfidf[word] = val * idfs[word]\n",
    "    return tfidf\n",
    "\n",
    "tfidfA = computeTFIDF(tfA, idfs)\n",
    "tfidfB = computeTFIDF(tfB, idfs)"
   ]
  },
  {
   "cell_type": "code",
   "execution_count": null,
   "metadata": {
    "hidden": true,
    "scrolled": false
   },
   "outputs": [],
   "source": [
    "tfidfA"
   ]
  },
  {
   "cell_type": "markdown",
   "metadata": {
    "hidden": true
   },
   "source": [
    "#### RAKE example"
   ]
  },
  {
   "cell_type": "code",
   "execution_count": null,
   "metadata": {
    "hidden": true
   },
   "outputs": [],
   "source": [
    "from RAKE.rake import Rake\n",
    "stoppath = \"./RAKE/SmartStoplist.txt\"\n",
    "r = Rake(stoppath)\n",
    "tex = \"Robin is walking away from the house. The house is very scary.\"\n",
    "\n",
    "r.run(tex)"
   ]
  }
 ],
 "metadata": {
  "kernelspec": {
   "display_name": "Python 3",
   "language": "python",
   "name": "python3"
  },
  "language_info": {
   "codemirror_mode": {
    "name": "ipython",
    "version": 3
   },
   "file_extension": ".py",
   "mimetype": "text/x-python",
   "name": "python",
   "nbconvert_exporter": "python",
   "pygments_lexer": "ipython3",
   "version": "3.7.4"
  },
  "toc": {
   "base_numbering": 1,
   "nav_menu": {},
   "number_sections": true,
   "sideBar": true,
   "skip_h1_title": false,
   "title_cell": "Table of Contents",
   "title_sidebar": "Contents",
   "toc_cell": false,
   "toc_position": {},
   "toc_section_display": true,
   "toc_window_display": false
  }
 },
 "nbformat": 4,
 "nbformat_minor": 2
}
